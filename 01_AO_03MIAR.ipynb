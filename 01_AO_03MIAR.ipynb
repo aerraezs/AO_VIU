{
  "cells": [
    {
      "cell_type": "markdown",
      "metadata": {
        "id": "view-in-github",
        "colab_type": "text"
      },
      "source": [
        "<a href=\"https://colab.research.google.com/github/aerraezs/AO_VIU/blob/main/01_AO_03MIAR.ipynb\" target=\"_parent\"><img src=\"https://colab.research.google.com/assets/colab-badge.svg\" alt=\"Open In Colab\"/></a>"
      ]
    },
    {
      "cell_type": "markdown",
      "id": "5bae1ac7",
      "metadata": {
        "id": "5bae1ac7"
      },
      "source": [
        "<font color=\"#002856\"><h1 align=\"left\">Algoritmos de optimización</h1></font>\n",
        "<font color=\"#002856\"><h2 align=\"left\">VC-1 Introducción a los algoritmos</h2></font>\n",
        "\n",
        "#### Profesor: Juan Francisco Vallalta Rueda\n",
        "---"
      ]
    },
    {
      "cell_type": "markdown",
      "id": "d6a8c0a8",
      "metadata": {
        "id": "d6a8c0a8"
      },
      "source": [
        "# Medir el tiempo de ejecución"
      ]
    },
    {
      "cell_type": "markdown",
      "id": "e37d9b38",
      "metadata": {
        "id": "e37d9b38"
      },
      "source": [
        "Medir el tiempo de ejecución de un programa es una tarea muy importante, ya que programar no sólo consiste en crear código que funcione, sino código que pueda ser ejecutado en un tiempo razonable.\n",
        "\n",
        "La librería **time** nos permite medir el tiempo de ejecución en Python, utilizando el método  `time()`."
      ]
    },
    {
      "cell_type": "code",
      "execution_count": null,
      "id": "dc20e4d2",
      "metadata": {
        "id": "dc20e4d2",
        "outputId": "612a8295-f66a-42bf-be0e-ca677dca54c2",
        "colab": {
          "base_uri": "https://localhost:8080/"
        }
      },
      "outputs": [
        {
          "output_type": "stream",
          "name": "stdout",
          "text": [
            "10.010384798049927\n"
          ]
        }
      ],
      "source": [
        "# Medida del tiempo de ejecucion con time\n",
        "import time\n",
        "inicio = time.time()\n",
        "\n",
        "# Código a medir\n",
        "time.sleep(10)\n",
        "# -------------\n",
        "\n",
        "fin = time.time()\n",
        "print(fin-inicio) # 1.0005340576171875"
      ]
    },
    {
      "cell_type": "markdown",
      "id": "52b5fc0a",
      "metadata": {
        "id": "52b5fc0a"
      },
      "source": [
        "# Generación de números enteros aleatorios"
      ]
    },
    {
      "cell_type": "code",
      "execution_count": null,
      "id": "ca5148de",
      "metadata": {
        "id": "ca5148de",
        "outputId": "abe18077-6538-4598-f07e-5df320c56394"
      },
      "outputs": [
        {
          "name": "stdout",
          "output_type": "stream",
          "text": [
            "[695, 385, 928, 730, 82, 906, 416, 429, 707, 59, 556, 643, 489, 851, 385, 940, 465, 515, 942, 745, 219, 305, 8, 943, 218, 371, 483, 174, 136, 257, 482, 94, 385, 201, 530, 522, 460, 204, 882, 754, 24, 341, 576, 946, 97, 758, 491, 270, 746, 12, 652, 158, 483, 623, 710, 665, 856, 935, 963, 342, 247, 890, 673, 143, 54, 905, 868, 522, 1, 248, 690, 720, 363, 878, 567, 586, 593, 901, 574, 835, 853, 915, 188, 937, 489, 182, 228, 948, 247, 291, 223, 602, 741, 761, 199, 691, 72, 718, 965, 583]\n"
          ]
        }
      ],
      "source": [
        "# Mödulo random\n",
        "import random\n",
        "\n",
        "# Inicialización del rango de números a generar\n",
        "inicio= 0\n",
        "fin = 1000\n",
        "cantidad = 100\n",
        "\n",
        "# Lista de números aleatorios\n",
        "numeros_aleatorios = [random.randint(inicio,fin) for i in range(cantidad)]\n",
        "print(numeros_aleatorios)"
      ]
    },
    {
      "cell_type": "markdown",
      "id": "c43d5913",
      "metadata": {
        "id": "c43d5913"
      },
      "source": [
        "# Ejercicios\n",
        "\n",
        "###Realizado por Alex Erráez\n",
        "\n",
        "## Implementa  el algoritmo de Euclides para el cálculo del máximo común divisor de dos números enteros"
      ]
    },
    {
      "cell_type": "code",
      "execution_count": null,
      "id": "af0a8a64",
      "metadata": {
        "id": "af0a8a64"
      },
      "outputs": [],
      "source": [
        "# Algoritmos de Euclides.\n",
        "\n",
        "\n"
      ]
    },
    {
      "cell_type": "code",
      "execution_count": null,
      "id": "81bea47d",
      "metadata": {
        "id": "81bea47d"
      },
      "outputs": [],
      "source": [
        "# Prueba del algoritmo\n",
        "\n",
        "\n"
      ]
    },
    {
      "cell_type": "markdown",
      "id": "fab2198d",
      "metadata": {
        "id": "fab2198d"
      },
      "source": [
        "## Implementa el algoritmo de Herón para el cálculo de la raiz cuadrada de un número entero. Calcula la raiz cuadrada de 13 con un error inferior a 0.000001"
      ]
    },
    {
      "cell_type": "code",
      "execution_count": null,
      "id": "5108153f",
      "metadata": {
        "id": "5108153f"
      },
      "outputs": [],
      "source": [
        "# Algoritmo de Herón\n",
        "\n",
        "\n",
        "\n"
      ]
    },
    {
      "cell_type": "code",
      "execution_count": null,
      "id": "32bfcfe8",
      "metadata": {
        "id": "32bfcfe8"
      },
      "outputs": [],
      "source": [
        "# Prueba del algoritmo\n",
        "\n",
        "\n",
        "\n"
      ]
    },
    {
      "cell_type": "markdown",
      "id": "9cbf8561",
      "metadata": {
        "id": "9cbf8561"
      },
      "source": [
        "# Reto VC-1\n",
        "\n",
        "## Implementa el algoritmo de la Criba de Erastótenes para encontrar número primos. Encuentra los números primos entre los 10.000 primeros números naturales"
      ]
    },
    {
      "cell_type": "code",
      "execution_count": null,
      "id": "288b5db6",
      "metadata": {
        "id": "288b5db6"
      },
      "outputs": [],
      "source": [
        "# Criba de Erastótenes\n",
        "# Escribe a ti tu código\n",
        "\n",
        "\n",
        "\n",
        "\n"
      ]
    }
  ],
  "metadata": {
    "kernelspec": {
      "display_name": "Python 3 (ipykernel)",
      "language": "python",
      "name": "python3"
    },
    "language_info": {
      "codemirror_mode": {
        "name": "ipython",
        "version": 3
      },
      "file_extension": ".py",
      "mimetype": "text/x-python",
      "name": "python",
      "nbconvert_exporter": "python",
      "pygments_lexer": "ipython3",
      "version": "3.9.7"
    },
    "colab": {
      "provenance": [],
      "include_colab_link": true
    }
  },
  "nbformat": 4,
  "nbformat_minor": 5
}
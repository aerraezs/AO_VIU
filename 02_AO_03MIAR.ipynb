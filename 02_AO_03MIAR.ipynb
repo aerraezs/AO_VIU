{
  "cells": [
    {
      "cell_type": "markdown",
      "metadata": {
        "id": "view-in-github",
        "colab_type": "text"
      },
      "source": [
        "<a href=\"https://colab.research.google.com/github/aerraezs/AO_VIU/blob/main/02_AO_03MIAR.ipynb\" target=\"_parent\"><img src=\"https://colab.research.google.com/assets/colab-badge.svg\" alt=\"Open In Colab\"/></a>"
      ]
    },
    {
      "cell_type": "markdown",
      "id": "5bae1ac7",
      "metadata": {
        "id": "5bae1ac7"
      },
      "source": [
        "<font color=\"#002856\"><h1 align=\"left\">Algoritmos de optimización</h1></font>\n",
        "<font color=\"#002856\"><h2 align=\"left\">VC-2 Diseño de algoritmos</h2></font>\n",
        "\n",
        "#### Profesor: Juan Francisco Vallalta Rueda\n",
        "---"
      ]
    },
    {
      "cell_type": "markdown",
      "id": "d6a8c0a8",
      "metadata": {
        "id": "d6a8c0a8"
      },
      "source": [
        "# Medir el tiempo de ejecución"
      ]
    },
    {
      "cell_type": "markdown",
      "id": "e37d9b38",
      "metadata": {
        "id": "e37d9b38"
      },
      "source": [
        "Medir el tiempo de ejecución de un programa es una tarea muy importante, ya que programar no sólo consiste en crear código que funcione, sino código que pueda ser ejecutado en un tiempo razonable.\n",
        "\n",
        "La librería **time** nos permite medir el tiempo de ejecución en Python, utilizando el método  `time()`."
      ]
    },
    {
      "cell_type": "code",
      "execution_count": null,
      "id": "dc20e4d2",
      "metadata": {
        "id": "dc20e4d2",
        "outputId": "353691bc-b5af-4898-c903-c9f55f3ed675"
      },
      "outputs": [
        {
          "name": "stdout",
          "output_type": "stream",
          "text": [
            "10.002641201019287\n"
          ]
        }
      ],
      "source": [
        "# Medida del tiempo de ejecucion con time\n",
        "import time\n",
        "inicio = time.time()\n",
        "\n",
        "# Código a medir\n",
        "time.sleep(10)\n",
        "# -------------\n",
        "\n",
        "fin = time.time()\n",
        "print(fin-inicio) # 1.0005340576171875"
      ]
    },
    {
      "cell_type": "markdown",
      "id": "52b5fc0a",
      "metadata": {
        "id": "52b5fc0a"
      },
      "source": [
        "# Generación de números enteros aleatorios"
      ]
    },
    {
      "cell_type": "code",
      "execution_count": null,
      "id": "ca5148de",
      "metadata": {
        "id": "ca5148de",
        "outputId": "03ac63cc-b6ad-4347-8b94-fda6545504d2"
      },
      "outputs": [
        {
          "name": "stdout",
          "output_type": "stream",
          "text": [
            "[695, 385, 928, 730, 82, 906, 416, 429, 707, 59, 556, 643, 489, 851, 385, 940, 465, 515, 942, 745, 219, 305, 8, 943, 218, 371, 483, 174, 136, 257, 482, 94, 385, 201, 530, 522, 460, 204, 882, 754, 24, 341, 576, 946, 97, 758, 491, 270, 746, 12, 652, 158, 483, 623, 710, 665, 856, 935, 963, 342, 247, 890, 673, 143, 54, 905, 868, 522, 1, 248, 690, 720, 363, 878, 567, 586, 593, 901, 574, 835, 853, 915, 188, 937, 489, 182, 228, 948, 247, 291, 223, 602, 741, 761, 199, 691, 72, 718, 965, 583]\n"
          ]
        }
      ],
      "source": [
        "# Mödulo random\n",
        "import random\n",
        "\n",
        "# Inicialización del rango de números a generar\n",
        "inicio= 0\n",
        "fin = 1000\n",
        "cantidad = 100\n",
        "\n",
        "# Lista de números aleatorios\n",
        "numeros_aleatorios = [random.randint(inicio,fin) for i in range(cantidad)]\n",
        "print(numeros_aleatorios)"
      ]
    },
    {
      "cell_type": "markdown",
      "id": "c43d5913",
      "metadata": {
        "id": "c43d5913"
      },
      "source": [
        "# Ejercicios\n",
        "\n",
        "## Implementa  una solución para el problema del cambio de moneda en un sistema monetario con las siguientes monedas: {1, 2, 5, 10, 20 , 50}"
      ]
    },
    {
      "cell_type": "code",
      "execution_count": null,
      "id": "af0a8a64",
      "metadata": {
        "id": "af0a8a64"
      },
      "outputs": [],
      "source": [
        "# Problema de cambio de monedas\n",
        "\n",
        "\n",
        "\n"
      ]
    },
    {
      "cell_type": "markdown",
      "id": "9cbf8561",
      "metadata": {
        "id": "9cbf8561"
      },
      "source": [
        "# Reto VC-2\n",
        "\n",
        "## Opción 1: Implementa una solución al problema de las 8 reinas en un tablero 8x8"
      ]
    },
    {
      "cell_type": "code",
      "execution_count": null,
      "id": "288b5db6",
      "metadata": {
        "id": "288b5db6"
      },
      "outputs": [],
      "source": [
        "# Ocho reinas\n",
        "# Escribe aquí tu código\n",
        "\n",
        "\n"
      ]
    },
    {
      "cell_type": "markdown",
      "id": "e0069a3c",
      "metadata": {
        "id": "e0069a3c"
      },
      "source": [
        "## Opción 2: Implementa una solución del problema de las Torres de Hanoi para un número arbitrario n de fichas"
      ]
    },
    {
      "cell_type": "code",
      "execution_count": null,
      "id": "f55c9247",
      "metadata": {
        "id": "f55c9247",
        "colab": {
          "base_uri": "https://localhost:8080/"
        },
        "outputId": "135e19a0-5a19-457d-9bb8-408f811e6bb5"
      },
      "outputs": [
        {
          "output_type": "stream",
          "name": "stdout",
          "text": [
            "[[1. 0. 0.]\n",
            " [2. 0. 0.]\n",
            " [3. 0. 0.]\n",
            " [4. 0. 0.]]\n"
          ]
        }
      ],
      "source": [
        "# Torres de Hanoy\n",
        "# Escribe aquí tu código\n",
        "import numpy as np\n",
        "\n",
        "discos = 4\n",
        "torres = 3\n",
        "\n",
        "matriz_torres= np.zeros((discos, torres-1))\n",
        "discos = np.arange(5)[1:].reshape(discos,1)\n",
        "\n",
        "matriz_h = np.block([discos,matriz_torres])\n",
        "\n",
        "print(matriz_h)\n",
        "\n",
        "juego=matriz_h\n"
      ]
    },
    {
      "cell_type": "code",
      "source": [
        "juego[:,0].min()\n",
        "juego"
      ],
      "metadata": {
        "id": "MbhOL3W-q5wW",
        "outputId": "30d5d398-d940-4766-ee24-f4f822d909d0",
        "colab": {
          "base_uri": "https://localhost:8080/"
        }
      },
      "id": "MbhOL3W-q5wW",
      "execution_count": null,
      "outputs": [
        {
          "output_type": "execute_result",
          "data": {
            "text/plain": [
              "1.0"
            ]
          },
          "metadata": {},
          "execution_count": 94
        }
      ]
    },
    {
      "cell_type": "code",
      "source": [
        "def Mover(discos, origen, destino, aux):\n",
        "    if discos > 0:\n",
        "        Mover(discos - 1, origen, aux, destino)\n",
        "        print(f\"Mover disco {discos} desde {origen} a {destino}\")\n",
        "        Mover(discos - 1, aux, destino, origen)\n",
        "\n",
        "Mover(3, \"P1\", \"P2\", \"P3\")"
      ],
      "metadata": {
        "colab": {
          "base_uri": "https://localhost:8080/"
        },
        "id": "EwX-icmAdsVp",
        "outputId": "752f691d-2f28-406f-b8dd-d4b8ee46d25f"
      },
      "id": "EwX-icmAdsVp",
      "execution_count": 1,
      "outputs": [
        {
          "output_type": "stream",
          "name": "stdout",
          "text": [
            "Mover disco 1 desde P1 a P2\n",
            "Mover disco 2 desde P1 a P3\n",
            "Mover disco 1 desde P2 a P3\n",
            "Mover disco 3 desde P1 a P2\n",
            "Mover disco 1 desde P3 a P1\n",
            "Mover disco 2 desde P3 a P2\n",
            "Mover disco 1 desde P1 a P2\n"
          ]
        }
      ]
    },
    {
      "cell_type": "code",
      "source": [
        "# Definir el número de filas y columnas\n",
        "discos = 4\n",
        "torres = 3\n",
        "\n",
        "# Crear una matriz con n filas y m columnas\n",
        "torres = [[i + 1 if j == 0 else 0 for j in range(torres)] for i in range(discos)]\n",
        "\n",
        "# Imprimir la matriz\n",
        "for fila in torres:\n",
        "    print(fila)"
      ],
      "metadata": {
        "id": "y2XuAHzuzAWH",
        "outputId": "0211b5c8-3501-4fa6-ce13-7e730cd4a9b1",
        "colab": {
          "base_uri": "https://localhost:8080/"
        }
      },
      "id": "y2XuAHzuzAWH",
      "execution_count": 86,
      "outputs": [
        {
          "output_type": "stream",
          "name": "stdout",
          "text": [
            "[1, 0, 0]\n",
            "[2, 0, 0]\n",
            "[3, 0, 0]\n",
            "[4, 0, 0]\n"
          ]
        }
      ]
    },
    {
      "cell_type": "code",
      "source": [
        "\n",
        "def imprimir_matriz(matriz):\n",
        "    for fila in matriz:\n",
        "        print(fila)\n",
        "    print(\"------\")\n",
        "\n",
        "def Mover(discos, origen, destino, aux, torres):\n",
        "    if discos > 0:\n",
        "        Mover(discos - 1, origen, aux, destino, torres)\n",
        "\n",
        "        # Buscar el disco a mover en la columna origen\n",
        "        disco = 0\n",
        "        for i in range(len(torres)):\n",
        "            if torres[i][origen] != 0:\n",
        "                disco = torres[i][origen]\n",
        "                torres[i][origen] = 0\n",
        "                break\n",
        "\n",
        "        # Encontrar la posición vacía en la columna destino\n",
        "        indice_destino = len(torres) - 1\n",
        "        while torres[indice_destino][destino] != 0:\n",
        "            indice_destino -= 1\n",
        "\n",
        "        # Mover el disco al destino y rellenar con ceros\n",
        "        count=0\n",
        "        torres[indice_destino][destino] = disco\n",
        "        for i in range(indice_destino - 1, -1, -1):\n",
        "            count +=1\n",
        "            torres[i][destino] = 0\n",
        "\n",
        "        print(f'Paso {count}')\n",
        "        # Imprimir la matriz después del movimiento\n",
        "        imprimir_matriz(torres)\n",
        "\n",
        "        Mover(discos - 1, aux, destino, origen, torres)\n",
        "\n",
        "\n",
        "\n",
        "# Imprimir la matriz inicial\n",
        "imprimir_matriz(torres)\n",
        "\n",
        "# Llamar a la función Mover con la matriz y los parámetros dados\n",
        "Mover(4, 0, 2, 1, torres)\n",
        "\n",
        "\n"
      ],
      "metadata": {
        "colab": {
          "base_uri": "https://localhost:8080/"
        },
        "id": "qH7LdT-dd-0L",
        "outputId": "40e97ae7-9888-4351-dce7-517bae561f2c"
      },
      "id": "qH7LdT-dd-0L",
      "execution_count": 87,
      "outputs": [
        {
          "output_type": "stream",
          "name": "stdout",
          "text": [
            "[1, 0, 0]\n",
            "[2, 0, 0]\n",
            "[3, 0, 0]\n",
            "[4, 0, 0]\n",
            "------\n",
            "Paso 3\n",
            "[0, 0, 0]\n",
            "[2, 0, 0]\n",
            "[3, 0, 0]\n",
            "[4, 1, 0]\n",
            "------\n",
            "Paso 3\n",
            "[0, 0, 0]\n",
            "[0, 0, 0]\n",
            "[3, 0, 0]\n",
            "[4, 1, 2]\n",
            "------\n",
            "Paso 2\n",
            "[0, 0, 0]\n",
            "[0, 0, 0]\n",
            "[3, 0, 1]\n",
            "[4, 0, 2]\n",
            "------\n",
            "Paso 3\n",
            "[0, 0, 0]\n",
            "[0, 0, 0]\n",
            "[0, 0, 1]\n",
            "[4, 3, 2]\n",
            "------\n",
            "Paso 2\n",
            "[0, 0, 0]\n",
            "[0, 0, 0]\n",
            "[1, 0, 0]\n",
            "[4, 3, 2]\n",
            "------\n",
            "Paso 2\n",
            "[0, 0, 0]\n",
            "[0, 0, 0]\n",
            "[1, 2, 0]\n",
            "[4, 3, 0]\n",
            "------\n",
            "Paso 1\n",
            "[0, 0, 0]\n",
            "[0, 1, 0]\n",
            "[0, 2, 0]\n",
            "[4, 3, 0]\n",
            "------\n",
            "Paso 3\n",
            "[0, 0, 0]\n",
            "[0, 1, 0]\n",
            "[0, 2, 0]\n",
            "[0, 3, 4]\n",
            "------\n",
            "Paso 2\n",
            "[0, 0, 0]\n",
            "[0, 0, 0]\n",
            "[0, 2, 1]\n",
            "[0, 3, 4]\n",
            "------\n",
            "Paso 3\n",
            "[0, 0, 0]\n",
            "[0, 0, 0]\n",
            "[0, 0, 1]\n",
            "[2, 3, 4]\n",
            "------\n",
            "Paso 2\n",
            "[0, 0, 0]\n",
            "[0, 0, 0]\n",
            "[1, 0, 0]\n",
            "[2, 3, 4]\n",
            "------\n",
            "Paso 2\n",
            "[0, 0, 0]\n",
            "[0, 0, 0]\n",
            "[1, 0, 3]\n",
            "[2, 0, 4]\n",
            "------\n",
            "Paso 3\n",
            "[0, 0, 0]\n",
            "[0, 0, 0]\n",
            "[0, 0, 3]\n",
            "[2, 1, 4]\n",
            "------\n",
            "Paso 1\n",
            "[0, 0, 0]\n",
            "[0, 0, 2]\n",
            "[0, 0, 3]\n",
            "[0, 1, 4]\n",
            "------\n",
            "Paso 0\n",
            "[0, 0, 1]\n",
            "[0, 0, 2]\n",
            "[0, 0, 3]\n",
            "[0, 0, 4]\n",
            "------\n"
          ]
        }
      ]
    }
  ],
  "metadata": {
    "kernelspec": {
      "display_name": "Python 3 (ipykernel)",
      "language": "python",
      "name": "python3"
    },
    "language_info": {
      "codemirror_mode": {
        "name": "ipython",
        "version": 3
      },
      "file_extension": ".py",
      "mimetype": "text/x-python",
      "name": "python",
      "nbconvert_exporter": "python",
      "pygments_lexer": "ipython3",
      "version": "3.9.7"
    },
    "colab": {
      "provenance": [],
      "include_colab_link": true
    }
  },
  "nbformat": 4,
  "nbformat_minor": 5
}
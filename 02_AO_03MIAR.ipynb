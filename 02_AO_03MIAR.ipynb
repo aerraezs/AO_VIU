{
  "cells": [
    {
      "cell_type": "markdown",
      "metadata": {
        "id": "view-in-github",
        "colab_type": "text"
      },
      "source": [
        "<a href=\"https://colab.research.google.com/github/aerraezs/AO_VIU/blob/main/02_AO_03MIAR.ipynb\" target=\"_parent\"><img src=\"https://colab.research.google.com/assets/colab-badge.svg\" alt=\"Open In Colab\"/></a>"
      ]
    },
    {
      "cell_type": "markdown",
      "id": "5bae1ac7",
      "metadata": {
        "id": "5bae1ac7"
      },
      "source": [
        "<font color=\"#002856\"><h1 align=\"left\">Algoritmos de optimización</h1></font>\n",
        "<font color=\"#002856\"><h2 align=\"left\">VC-2 Diseño de algoritmos</h2></font>\n",
        "\n",
        "#### Profesor: Juan Francisco Vallalta Rueda\n",
        "---"
      ]
    },
    {
      "cell_type": "markdown",
      "id": "d6a8c0a8",
      "metadata": {
        "id": "d6a8c0a8"
      },
      "source": [
        "# Medir el tiempo de ejecución"
      ]
    },
    {
      "cell_type": "markdown",
      "id": "e37d9b38",
      "metadata": {
        "id": "e37d9b38"
      },
      "source": [
        "Medir el tiempo de ejecución de un programa es una tarea muy importante, ya que programar no sólo consiste en crear código que funcione, sino código que pueda ser ejecutado en un tiempo razonable.\n",
        "\n",
        "La librería **time** nos permite medir el tiempo de ejecución en Python, utilizando el método  `time()`."
      ]
    },
    {
      "cell_type": "code",
      "execution_count": null,
      "id": "dc20e4d2",
      "metadata": {
        "id": "dc20e4d2",
        "outputId": "353691bc-b5af-4898-c903-c9f55f3ed675"
      },
      "outputs": [
        {
          "name": "stdout",
          "output_type": "stream",
          "text": [
            "10.002641201019287\n"
          ]
        }
      ],
      "source": [
        "# Medida del tiempo de ejecucion con time\n",
        "import time\n",
        "inicio = time.time()\n",
        "\n",
        "# Código a medir\n",
        "time.sleep(10)\n",
        "# -------------\n",
        "\n",
        "fin = time.time()\n",
        "print(fin-inicio) # 1.0005340576171875"
      ]
    },
    {
      "cell_type": "code",
      "source": [
        "#convierte los multiplos de 10 en prefijos\n",
        "def convertir_prefijo(numero):\n",
        "    prefijos = {\n",
        "        '': 1,\n",
        "        'm': 1e-3,\n",
        "        'µ': 1e-6,\n",
        "        'n': 1e-9,\n",
        "        'p': 1e-12,\n",
        "    }\n",
        "\n",
        "    for prefijo, valor in prefijos.items():\n",
        "        if valor <= abs(numero):\n",
        "            numero_con_prefijo = numero / valor\n",
        "            return f'{numero_con_prefijo:.3f} {prefijo}s'\n",
        "\n",
        "    return f'{numero:.3e} s'\n",
        "\n",
        "\n",
        "# calculo el tiempo que transcurre el ejercicio\n",
        "def tiempo(funcion):\n",
        "  import time\n",
        "  # Medida del tiempo de ejecucion con time\n",
        "  inicio = time.time()\n",
        "  funcion\n",
        "  fin = time.time()\n",
        "  tiempo_estimado=fin-inicio\n",
        "  return convertir_prefijo(round(tiempo_estimado,10))"
      ],
      "metadata": {
        "id": "DDvmi_Mv-HBo"
      },
      "id": "DDvmi_Mv-HBo",
      "execution_count": null,
      "outputs": []
    },
    {
      "cell_type": "markdown",
      "id": "52b5fc0a",
      "metadata": {
        "id": "52b5fc0a"
      },
      "source": [
        "# Generación de números enteros aleatorios"
      ]
    },
    {
      "cell_type": "code",
      "execution_count": null,
      "id": "ca5148de",
      "metadata": {
        "id": "ca5148de",
        "outputId": "03ac63cc-b6ad-4347-8b94-fda6545504d2"
      },
      "outputs": [
        {
          "name": "stdout",
          "output_type": "stream",
          "text": [
            "[695, 385, 928, 730, 82, 906, 416, 429, 707, 59, 556, 643, 489, 851, 385, 940, 465, 515, 942, 745, 219, 305, 8, 943, 218, 371, 483, 174, 136, 257, 482, 94, 385, 201, 530, 522, 460, 204, 882, 754, 24, 341, 576, 946, 97, 758, 491, 270, 746, 12, 652, 158, 483, 623, 710, 665, 856, 935, 963, 342, 247, 890, 673, 143, 54, 905, 868, 522, 1, 248, 690, 720, 363, 878, 567, 586, 593, 901, 574, 835, 853, 915, 188, 937, 489, 182, 228, 948, 247, 291, 223, 602, 741, 761, 199, 691, 72, 718, 965, 583]\n"
          ]
        }
      ],
      "source": [
        "# Mödulo random\n",
        "import random\n",
        "\n",
        "# Inicialización del rango de números a generar\n",
        "inicio= 0\n",
        "fin = 1000\n",
        "cantidad = 100\n",
        "\n",
        "# Lista de números aleatorios\n",
        "numeros_aleatorios = [random.randint(inicio,fin) for i in range(cantidad)]\n",
        "print(numeros_aleatorios)"
      ]
    },
    {
      "cell_type": "code",
      "source": [],
      "metadata": {
        "id": "PH7RgRlY-Di-"
      },
      "id": "PH7RgRlY-Di-",
      "execution_count": null,
      "outputs": []
    },
    {
      "cell_type": "markdown",
      "id": "c43d5913",
      "metadata": {
        "id": "c43d5913"
      },
      "source": [
        "# Ejercicios\n",
        "\n",
        "## Implementa  una solución para el problema del cambio de moneda en un sistema monetario con las siguientes monedas: {1, 2, 5, 10, 20 , 50}"
      ]
    },
    {
      "cell_type": "code",
      "source": [],
      "metadata": {
        "colab": {
          "base_uri": "https://localhost:8080/"
        },
        "id": "AggGtvTbEQVu",
        "outputId": "6170672a-adab-4a90-f07f-ac71ac439bfc"
      },
      "id": "AggGtvTbEQVu",
      "execution_count": null,
      "outputs": [
        {
          "output_type": "stream",
          "name": "stdout",
          "text": [
            "[2, 3, 4, 5]\n"
          ]
        }
      ]
    },
    {
      "cell_type": "code",
      "execution_count": null,
      "id": "af0a8a64",
      "metadata": {
        "id": "af0a8a64",
        "colab": {
          "base_uri": "https://localhost:8080/"
        },
        "outputId": "330041d7-e584-4167-e850-981313f65761"
      },
      "outputs": [
        {
          "output_type": "stream",
          "name": "stdout",
          "text": [
            "si\n"
          ]
        }
      ],
      "source": [
        "import math\n",
        "# Problema de cambio de monedas\n",
        "\n",
        "dinero_entregado = 12\n",
        "\n",
        "def cambio_de_moneda(dinero):\n",
        "    monedas = {1, 2, 5, 10, 20 , 50}\n",
        "\n",
        "\n"
      ]
    },
    {
      "cell_type": "markdown",
      "id": "9cbf8561",
      "metadata": {
        "id": "9cbf8561"
      },
      "source": [
        "# Reto VC-2\n",
        "\n",
        "## Opción 1: Implementa una solución al problema de las 8 reinas en un tablero 8x8"
      ]
    },
    {
      "cell_type": "code",
      "execution_count": 9,
      "id": "288b5db6",
      "metadata": {
        "id": "288b5db6",
        "colab": {
          "base_uri": "https://localhost:8080/"
        },
        "outputId": "5feff72d-320b-466f-adc8-bd19514cd0f8"
      },
      "outputs": [
        {
          "output_type": "stream",
          "name": "stdout",
          "text": [
            "[[0 1 0 1 0 1 0 1]\n",
            " [1 0 1 0 1 0 1 0]\n",
            " [0 1 0 1 0 1 0 1]\n",
            " [1 0 1 0 1 0 1 0]\n",
            " [0 1 0 1 0 1 0 1]\n",
            " [1 0 1 0 1 0 1 0]\n",
            " [0 1 0 1 0 1 0 1]\n",
            " [1 0 1 0 1 0 1 0]]\n"
          ]
        }
      ],
      "source": [
        "# Ocho reinas\n",
        "# Escribe aquí tu código\n",
        "import numpy as np\n",
        "\n",
        "\n",
        "\n",
        "#CREACION DE TABLERO\n",
        "tablero_cuadrado = 8\n",
        "l1 = [0, 1]\n",
        "l2 = [1, 0]\n",
        "\n",
        "l1_ampliada = l1 * 4\n",
        "l2_ampliada = l2 * 4\n",
        "\n",
        "tablero = []\n",
        "for x in range(int(tablero_cuadrado/2)):\n",
        "  tablero.append(l1_ampliada)\n",
        "  tablero.append(l2_ampliada)\n",
        "tablero = np.array(tablero)\n",
        "\n",
        "print(tablero)\n",
        "\n",
        "# EMPIEZA EL JUEGO DE DAMAS\n",
        "reinas = 8\n",
        "\n",
        "\n",
        "for x in range(reinas):\n",
        "  if tablero[0].sum() == 4:\n",
        "    tablero[0][1] = 2\n",
        "\n"
      ]
    },
    {
      "cell_type": "code",
      "source": [
        "juego_ajedrez = np.zeros((8,8))\n",
        "reinas = 8\n",
        "\n",
        "\n",
        "for x in range(reinas):\n",
        "  if juego_ajedrez[x].sum(axis=0) == 0:\n",
        "    juego_ajedrez[x] = 2\n",
        "\n",
        "print(juego_ajedrez)\n",
        "\n"
      ],
      "metadata": {
        "id": "xBTfstLs1BcJ",
        "outputId": "4d944070-be42-4cde-9e41-bc86e99a46af",
        "colab": {
          "base_uri": "https://localhost:8080/"
        }
      },
      "id": "xBTfstLs1BcJ",
      "execution_count": 36,
      "outputs": [
        {
          "output_type": "stream",
          "name": "stdout",
          "text": [
            "[[2. 2. 2. 2. 2. 2. 2. 2.]\n",
            " [2. 2. 2. 2. 2. 2. 2. 2.]\n",
            " [2. 2. 2. 2. 2. 2. 2. 2.]\n",
            " [2. 2. 2. 2. 2. 2. 2. 2.]\n",
            " [2. 2. 2. 2. 2. 2. 2. 2.]\n",
            " [2. 2. 2. 2. 2. 2. 2. 2.]\n",
            " [2. 2. 2. 2. 2. 2. 2. 2.]\n",
            " [2. 2. 2. 2. 2. 2. 2. 2.]]\n"
          ]
        }
      ]
    },
    {
      "cell_type": "markdown",
      "id": "e0069a3c",
      "metadata": {
        "id": "e0069a3c"
      },
      "source": [
        "## Opción 2: Implementa una solución del problema de las Torres de Hanoi para un número arbitrario n de fichas"
      ]
    },
    {
      "cell_type": "code",
      "source": [
        "# Parametros de entrada\n",
        "discos = 4\n",
        "\n",
        "\n",
        "# Creacion de la matriz juego , las torres son las columnas y los discos son los numeros.\n",
        "torres = 3\n",
        "juego = [[i + 1 if j == 0 else 0    for j in range(torres)]    for i in range(discos)    ]\n",
        "\n",
        "# Visualizacion de las torres de Hanoi\n",
        "def imprimir_matriz(matriz):\n",
        "    print(\"------\")\n",
        "    imprimir_matriz.count += 1\n",
        "    for fila in matriz:\n",
        "        print(fila)\n",
        "\n",
        "#Contador de movimientos\n",
        "imprimir_matriz.count = 1\n",
        "\n",
        "#Funcion de movimientos\n",
        "def Mover(discos, origen, destino, aux, juego):\n",
        "\n",
        "    if discos > 0:\n",
        "\n",
        "        Mover(discos - 1, origen, aux, destino, juego)\n",
        "\n",
        "        # Buscar disco que se puede mover\n",
        "        disco = 0\n",
        "        for i in range(len(juego)):\n",
        "            if juego[i][origen] != 0:\n",
        "                disco = juego[i][origen]\n",
        "                juego[i][origen] = 0\n",
        "                break\n",
        "\n",
        "        # Buscador de posición en columna destino\n",
        "        indice_destino = len(juego) - 1\n",
        "        while juego[indice_destino][destino] != 0:\n",
        "            indice_destino -= 1\n",
        "\n",
        "        # Maniobra de moviento de ficha\n",
        "        juego[indice_destino][destino] = disco\n",
        "        for i in range(indice_destino - 1, -1, -1):\n",
        "            juego[i][destino] = 0\n",
        "\n",
        "        #Presentacion\n",
        "        print(f'Paso {imprimir_matriz.count-1} ')\n",
        "        imprimir_matriz(juego)\n",
        "        print(f\"Movimiento del {discos} desde la torre {origen+1} a {destino+1}\")\n",
        "        print(\"------\")\n",
        "\n",
        "        Mover(discos - 1, aux, destino, origen, juego)\n",
        "\n",
        "\n",
        "imprimir_matriz(juego)\n",
        "print(\"------\")\n",
        "\n",
        "RESULTADO = Mover(discos, 0, 2, 1, juego)\n",
        "\n",
        "TIEMPO =tiempo(RESULTADO)\n",
        "\n",
        "\n",
        "print(f'Se realizaron {imprimir_matriz.count-2} movimientos en un tiempo de {TIEMPO}')"
      ],
      "metadata": {
        "colab": {
          "base_uri": "https://localhost:8080/"
        },
        "id": "y2XuAHzuzAWH",
        "outputId": "a3b7ec69-e7ff-46fa-c200-52c8aebbb8e5"
      },
      "id": "y2XuAHzuzAWH",
      "execution_count": null,
      "outputs": [
        {
          "output_type": "stream",
          "name": "stdout",
          "text": [
            "------\n",
            "[1, 0, 0]\n",
            "[2, 0, 0]\n",
            "[3, 0, 0]\n",
            "[4, 0, 0]\n",
            "------\n",
            "Paso 1 \n",
            "------\n",
            "[0, 0, 0]\n",
            "[2, 0, 0]\n",
            "[3, 0, 0]\n",
            "[4, 1, 0]\n",
            "Movimiento del 1 desde la torre 1 a 2\n",
            "------\n",
            "Paso 2 \n",
            "------\n",
            "[0, 0, 0]\n",
            "[0, 0, 0]\n",
            "[3, 0, 0]\n",
            "[4, 1, 2]\n",
            "Movimiento del 2 desde la torre 1 a 3\n",
            "------\n",
            "Paso 3 \n",
            "------\n",
            "[0, 0, 0]\n",
            "[0, 0, 0]\n",
            "[3, 0, 1]\n",
            "[4, 0, 2]\n",
            "Movimiento del 1 desde la torre 2 a 3\n",
            "------\n",
            "Paso 4 \n",
            "------\n",
            "[0, 0, 0]\n",
            "[0, 0, 0]\n",
            "[0, 0, 1]\n",
            "[4, 3, 2]\n",
            "Movimiento del 3 desde la torre 1 a 2\n",
            "------\n",
            "Paso 5 \n",
            "------\n",
            "[0, 0, 0]\n",
            "[0, 0, 0]\n",
            "[1, 0, 0]\n",
            "[4, 3, 2]\n",
            "Movimiento del 1 desde la torre 3 a 1\n",
            "------\n",
            "Paso 6 \n",
            "------\n",
            "[0, 0, 0]\n",
            "[0, 0, 0]\n",
            "[1, 2, 0]\n",
            "[4, 3, 0]\n",
            "Movimiento del 2 desde la torre 3 a 2\n",
            "------\n",
            "Paso 7 \n",
            "------\n",
            "[0, 0, 0]\n",
            "[0, 1, 0]\n",
            "[0, 2, 0]\n",
            "[4, 3, 0]\n",
            "Movimiento del 1 desde la torre 1 a 2\n",
            "------\n",
            "Paso 8 \n",
            "------\n",
            "[0, 0, 0]\n",
            "[0, 1, 0]\n",
            "[0, 2, 0]\n",
            "[0, 3, 4]\n",
            "Movimiento del 4 desde la torre 1 a 3\n",
            "------\n",
            "Paso 9 \n",
            "------\n",
            "[0, 0, 0]\n",
            "[0, 0, 0]\n",
            "[0, 2, 1]\n",
            "[0, 3, 4]\n",
            "Movimiento del 1 desde la torre 2 a 3\n",
            "------\n",
            "Paso 10 \n",
            "------\n",
            "[0, 0, 0]\n",
            "[0, 0, 0]\n",
            "[0, 0, 1]\n",
            "[2, 3, 4]\n",
            "Movimiento del 2 desde la torre 2 a 1\n",
            "------\n",
            "Paso 11 \n",
            "------\n",
            "[0, 0, 0]\n",
            "[0, 0, 0]\n",
            "[1, 0, 0]\n",
            "[2, 3, 4]\n",
            "Movimiento del 1 desde la torre 3 a 1\n",
            "------\n",
            "Paso 12 \n",
            "------\n",
            "[0, 0, 0]\n",
            "[0, 0, 0]\n",
            "[1, 0, 3]\n",
            "[2, 0, 4]\n",
            "Movimiento del 3 desde la torre 2 a 3\n",
            "------\n",
            "Paso 13 \n",
            "------\n",
            "[0, 0, 0]\n",
            "[0, 0, 0]\n",
            "[0, 0, 3]\n",
            "[2, 1, 4]\n",
            "Movimiento del 1 desde la torre 1 a 2\n",
            "------\n",
            "Paso 14 \n",
            "------\n",
            "[0, 0, 0]\n",
            "[0, 0, 2]\n",
            "[0, 0, 3]\n",
            "[0, 1, 4]\n",
            "Movimiento del 2 desde la torre 1 a 3\n",
            "------\n",
            "Paso 15 \n",
            "------\n",
            "[0, 0, 1]\n",
            "[0, 0, 2]\n",
            "[0, 0, 3]\n",
            "[0, 0, 4]\n",
            "Movimiento del 1 desde la torre 2 a 3\n",
            "------\n",
            "Se realizaron 15 movimientos en un tiempo de 238.400 ns\n"
          ]
        }
      ]
    }
  ],
  "metadata": {
    "kernelspec": {
      "display_name": "Python 3 (ipykernel)",
      "language": "python",
      "name": "python3"
    },
    "language_info": {
      "codemirror_mode": {
        "name": "ipython",
        "version": 3
      },
      "file_extension": ".py",
      "mimetype": "text/x-python",
      "name": "python",
      "nbconvert_exporter": "python",
      "pygments_lexer": "ipython3",
      "version": "3.9.7"
    },
    "colab": {
      "provenance": [],
      "include_colab_link": true
    }
  },
  "nbformat": 4,
  "nbformat_minor": 5
}
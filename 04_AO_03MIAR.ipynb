{
  "cells": [
    {
      "cell_type": "markdown",
      "metadata": {
        "id": "view-in-github",
        "colab_type": "text"
      },
      "source": [
        "<a href=\"https://colab.research.google.com/github/aerraezs/AO_VIU/blob/main/04_AO_03MIAR.ipynb\" target=\"_parent\"><img src=\"https://colab.research.google.com/assets/colab-badge.svg\" alt=\"Open In Colab\"/></a>"
      ]
    },
    {
      "cell_type": "markdown",
      "id": "5bae1ac7",
      "metadata": {
        "id": "5bae1ac7"
      },
      "source": [
        "<font color=\"#002856\"><h1 align=\"left\">Algoritmos de optimización</h1></font>\n",
        "<font color=\"#002856\"><h2 align=\"left\">VC-4 Descenso por gradiente</h2></font>\n",
        "\n",
        "#### Profesor: Juan Francisco Vallalta Rueda\n",
        "---"
      ]
    },
    {
      "cell_type": "code",
      "execution_count": null,
      "id": "d6b8aae2",
      "metadata": {
        "id": "d6b8aae2"
      },
      "outputs": [],
      "source": [
        "import warnings\n",
        "warnings.filterwarnings('ignore')\n",
        "\n",
        "import numpy as np\n",
        "import seaborn as sns\n",
        "import bokeh.plotting as bp\n",
        "import matplotlib.pyplot as plt\n",
        "#from sklearn.datasets.samples_generator import make_regression\n",
        "from scipy import stats\n",
        "from bokeh.models import  WheelZoomTool, ResetTool, PanTool\n",
        "%matplotlib inline"
      ]
    },
    {
      "cell_type": "markdown",
      "id": "d6a8c0a8",
      "metadata": {
        "id": "d6a8c0a8"
      },
      "source": [
        "## ¿Qué es \"aprender de los datos\"?\n",
        "\n",
        ">En general **Learning from Data** es una disciplina científica que se ocupa del diseño y desarrollo de algoritmos que permiten a las computadoras inferir (a partir de datos) un modelo que permite una *representación compacta* (aprendizaje no supervisado) y/o *buena generalización* (aprendizaje supervisado).\n",
        "\n",
        "Esta es una tecnología importante porque permite que los sistemas computacionales mejoren su rendimiento de forma adaptativa con la experiencia acumulada a partir de los datos observados.\n",
        "\n",
        "La mayoría de estos algoritmos se basan en la *solución iterativa* de un problema matemático que involucra datos y modelo. Si hubiera una solución analítica al problema, esta debería ser la adoptada, pero no es así en la mayoría de los casos.\n",
        "\n",
        "Entonces, la estrategia más común para **aprender de datos** se basa en resolver un sistema de ecuaciones como una forma de encontrar una serie de parámetros del modelo que minimice un problema matemático. Esto se llama **optimización**.\n",
        "\n",
        "Una técnica importante para resolver problemas de optimización es el **descenso de gradiente**."
      ]
    },
    {
      "cell_type": "markdown",
      "id": "e37d9b38",
      "metadata": {
        "id": "e37d9b38"
      },
      "source": [
        "## Descenso del gradiente para minimización de una función: 1-D\n",
        "\n",
        "Supongamos que tenemos una función $f: \\Re \\rightarrow \\Re$. Por ejemplo:\n",
        "\n",
        "$$f(x) = x^2$$\n",
        "\n",
        "Nuestro objetivo es encontrar el argumento  $x$ que minimiza la función (para maximizar, consideremos $-f(x)$). Para este fin, el concepto crítico es la **derivada**.\n",
        "\n",
        "La derivada $f$ con respecto a una variable $x$, $f'(x)$ o $\\frac{\\mathrm{d}f}{\\mathrm{d}x}$,  es una medida de la tasa de cambio de la función respecto al cambio de la variable. Se define como el siguiente límite:\n",
        "\n",
        "\n",
        "$$ f'(x) = \\lim_{h \\rightarrow 0} \\frac{f(x + h) - f(x)}{h} $$\n",
        "\n",
        "La derivada especifica cómo escalar un pequeño cambio en la entrada para obtener el cambio correspondiente en la salida:\n",
        "\n",
        "$$ f(x + h) \\approx f(x) + h f'(x)$$"
      ]
    },
    {
      "cell_type": "code",
      "execution_count": null,
      "id": "dc20e4d2",
      "metadata": {
        "id": "dc20e4d2",
        "outputId": "34b5abf8-2375-4672-ca3f-0d33b75cdbf8"
      },
      "outputs": [
        {
          "name": "stdout",
          "output_type": "stream",
          "text": [
            "4.0000010006480125\n"
          ]
        }
      ],
      "source": [
        "# Derivada numérica en el punto x = 2.0\n",
        "\n",
        "def f(x):\n",
        "    return x**2\n",
        "\n",
        "def fin_dif(x, f, h = 0.000001):\n",
        "    return (f(x+h) - f(x))/h\n",
        "\n",
        "x = 2.0\n",
        "print(fin_dif(x,f))"
      ]
    },
    {
      "cell_type": "markdown",
      "id": "52b5fc0a",
      "metadata": {
        "id": "52b5fc0a"
      },
      "source": [
        "El límite cuando $h$ tiende a cero, si existe, debe representar la **pendiente de la línea tangente** a $(x, f(x))$.\n",
        "\n",
        "Para valores que no son cero es solo una aproximación."
      ]
    },
    {
      "cell_type": "code",
      "execution_count": null,
      "id": "ca5148de",
      "metadata": {
        "id": "ca5148de",
        "outputId": "d2006c01-e251-4b53-e585-66f1bf705198"
      },
      "outputs": [
        {
          "name": "stdout",
          "output_type": "stream",
          "text": [
            "25.000000 25.000000\n",
            "27.562500 27.500000\n",
            "30.250000 30.000001\n",
            "33.062500 32.500001\n",
            "36.000000 35.000001\n"
          ]
        }
      ],
      "source": [
        "for h in np.linspace(0.0, 1.0 , 5):\n",
        "    print(\"{:3.6f}\".format(f(5+h)), \"{:3.6f}\".format(f(5)+h*fin_dif(5,f)))"
      ]
    },
    {
      "cell_type": "code",
      "execution_count": null,
      "id": "64d62346",
      "metadata": {
        "id": "64d62346",
        "outputId": "0b115cb5-93ae-4e57-8810-c7f9ccf1415e"
      },
      "outputs": [
        {
          "data": {
            "image/png": "[encoded data removed]",
            "text/plain": [
              "<Figure size 432x288 with 1 Axes>"
            ]
          },
          "metadata": {
            "needs_background": "light"
          },
          "output_type": "display_data"
        }
      ],
      "source": [
        "x = np.linspace(-1.5,-0.5, 100)\n",
        "f = [i**2 for i in x]\n",
        "plt.plot(x,f, 'r-')\n",
        "plt.plot([-1],[1],'o')\n",
        "plt.plot([-1.4],[1.96],'o') # h=0.4\n",
        "plt.text(-1.0, 1.2,'$x,f(x)$')\n",
        "plt.text(-1.4, 2.2,'$(x-h),f(x-h)$')\n",
        "plt.plot([-1.4, -1.0], [1.96, 1.0], 'b-', lw=2) #la derivada con h=0.4\n",
        "plt.plot([-1.5, -0.5], [2, 0.0], 'k-', lw=2) #linea tangente (y=-2x-1)\n",
        "plt.grid()\n",
        "#plt.show"
      ]
    },
    {
      "cell_type": "markdown",
      "id": "c43d5913",
      "metadata": {
        "id": "c43d5913"
      },
      "source": [
        "Se puede demostrar que la \"fórmula de la diferencia centrada\" es mejor cuando se calculan derivadas numéricas:\n",
        "\n",
        "$$ \\lim_{h \\rightarrow 0} \\frac{f(x + h) - f(x - h)}{2h} $$\n",
        "\n",
        "El error en la aproximación de \"diferencias finitas\" se puede derivar del teorema de Taylor y, suponiendo que $f$ es diferenciable, es $O(h)$. En el caso de \"diferencia centrada\" el error es $O(h^2)$."
      ]
    },
    {
      "cell_type": "markdown",
      "id": "3e81ad6e",
      "metadata": {
        "id": "3e81ad6e"
      },
      "source": [
        "La derivada nos dice qué tan inclinada sería la recta tangente a la gráfica en un punto dado $(x, f(x))$. Esa inclinación o pendiente varía de un punto a otro: algunas partes del gráfico son más planas y otras partes tienen una pendiente más pronunciada.\n",
        "Examinando la derivada en un punto dado $(x, f(x))$, podemos saber si la función $f$ es creciente o decreciente en ese punto, y en qué medida.\n",
        "\n",
        "Podemos seguir estos pasos para **disminuir** el valor de la función:\n",
        "\n",
        "+ Comience desde un valor aleatorio de $x$.\n",
        "+ Calcula la derivada $f'(x) = \\lim_{h \\rightarrow 0} \\frac{f(x + h) - f(x - h)}{2h}$.\n",
        "+ Da un pequeño paso en la dirección **opuesta** de la derivada, porque sabemos que $f(x - h \\mbox{ sign}(f'(x))$ < $f(x)$ para valores suficientemente pequeños $h$.\n",
        "\n",
        "La búsqueda de los mínimos termina cuando la derivada es cero porque no tenemos más información sobre en qué dirección movernos. $x$ es un punto crítico o estacionario si $f'(x)=0$.\n",
        "\n",
        " + Un **mínimo (máximo)** es un punto crítico donde $f(x)$ es menor (mayor) que en todos los puntos vecinos.\n",
        " + Hay una tercera clase de puntos críticos: **puntos de silla**.\n",
        "\n",
        "Si $f$ es una **función convexa**, este debería ser el mínimo (máximo) de nuestras funciones. En otros casos podría ser un mínimo local (máximo) o un punto silla."
      ]
    },
    {
      "cell_type": "code",
      "execution_count": null,
      "id": "79b27c3d",
      "metadata": {
        "id": "79b27c3d",
        "outputId": "8f0c4100-f47d-44f3-dddc-d2b01079ad8c"
      },
      "outputs": [
        {
          "data": {
            "text/html": [
              "\n",
              "    <div class=\"bk-root\">\n",
              "        <a href=\"https://bokeh.org\" target=\"_blank\" class=\"bk-logo bk-logo-small bk-logo-notebook\"></a>\n",
              "        <span id=\"1808\">Loading BokehJS ...</span>\n",
              "    </div>"
            ]
          },
          "metadata": {},
          "output_type": "display_data"
        },
        {
          "data": {
            "application/javascript": [
              "\n",
              "(function(root) {\n",
              "  function now() {\n",
              "    return new Date();\n",
              "  }\n",
              "\n",
              "  const force = true;\n",
              "\n",
              "  if (typeof root._bokeh_onload_callbacks === \"undefined\" || force === true) {\n",
              "    root._bokeh_onload_callbacks = [];\n",
              "    root._bokeh_is_loading = undefined;\n",
              "  }\n",
              "\n",
              "  const JS_MIME_TYPE = 'application/javascript';\n",
              "  const HTML_MIME_TYPE = 'text/html';\n",
              "  const EXEC_MIME_TYPE = 'application/vnd.bokehjs_exec.v0+json';\n",
              "  const CLASS_NAME = 'output_bokeh rendered_html';\n",
              "\n",
              "  /**\n",
              "   * Render data to the DOM node\n",
              "   */\n",
              "  function render(props, node) {\n",
              "    const script = document.createElement(\"script\");\n",
              "    node.appendChild(script);\n",
              "  }\n",
              "\n",
              "  /**\n",
              "   * Handle when an output is cleared or removed\n",
              "   */\n",
              "  function handleClearOutput(event, handle) {\n",
              "    const cell = handle.cell;\n",
              "\n",
              "    const id = cell.output_area._bokeh_element_id;\n",
              "    const server_id = cell.output_area._bokeh_server_id;\n",
              "    // Clean up Bokeh references\n",
              "    if (id != null && id in Bokeh.index) {\n",
              "      Bokeh.index[id].model.document.clear();\n",
              "      delete Bokeh.index[id];\n",
              "    }\n",
              "\n",
              "    if (server_id !== undefined) {\n",
              "      // Clean up Bokeh references\n",
              "      const cmd_clean = \"from bokeh.io.state import curstate; print(curstate().uuid_to_server['\" + server_id + \"'].get_sessions()[0].document.roots[0]._id)\";\n",
              "      cell.notebook.kernel.execute(cmd_clean, {\n",
              "        iopub: {\n",
              "          output: function(msg) {\n",
              "            const id = msg.content.text.trim();\n",
              "            if (id in Bokeh.index) {\n",
              "              Bokeh.index[id].model.document.clear();\n",
              "              delete Bokeh.index[id];\n",
              "            }\n",
              "          }\n",
              "        }\n",
              "      });\n",
              "      // Destroy server and session\n",
              "      const cmd_destroy = \"import bokeh.io.notebook as ion; ion.destroy_server('\" + server_id + \"')\";\n",
              "      cell.notebook.kernel.execute(cmd_destroy);\n",
              "    }\n",
              "  }\n",
              "\n",
              "  /**\n",
              "   * Handle when a new output is added\n",
              "   */\n",
              "  function handleAddOutput(event, handle) {\n",
              "    const output_area = handle.output_area;\n",
              "    const output = handle.output;\n",
              "\n",
              "    // limit handleAddOutput to display_data with EXEC_MIME_TYPE content only\n",
              "    if ((output.output_type != \"display_data\") || (!Object.prototype.hasOwnProperty.call(output.data, EXEC_MIME_TYPE))) {\n",
              "      return\n",
              "    }\n",
              "\n",
              "    const toinsert = output_area.element.find(\".\" + CLASS_NAME.split(' ')[0]);\n",
              "\n",
              "    if (output.metadata[EXEC_MIME_TYPE][\"id\"] !== undefined) {\n",
              "      toinsert[toinsert.length - 1].firstChild.textContent = output.data[JS_MIME_TYPE];\n",
              "      // store reference to embed id on output_area\n",
              "      output_area._bokeh_element_id = output.metadata[EXEC_MIME_TYPE][\"id\"];\n",
              "    }\n",
              "    if (output.metadata[EXEC_MIME_TYPE][\"server_id\"] !== undefined) {\n",
              "      const bk_div = document.createElement(\"div\");\n",
              "      bk_div.innerHTML = output.data[HTML_MIME_TYPE];\n",
              "      const script_attrs = bk_div.children[0].attributes;\n",
              "      for (let i = 0; i < script_attrs.length; i++) {\n",
              "        toinsert[toinsert.length - 1].firstChild.setAttribute(script_attrs[i].name, script_attrs[i].value);\n",
              "        toinsert[toinsert.length - 1].firstChild.textContent = bk_div.children[0].textContent\n",
              "      }\n",
              "      // store reference to server id on output_area\n",
              "      output_area._bokeh_server_id = output.metadata[EXEC_MIME_TYPE][\"server_id\"];\n",
              "    }\n",
              "  }\n",
              "\n",
              "  function register_renderer(events, OutputArea) {\n",
              "\n",
              "    function append_mime(data, metadata, element) {\n",
              "      // create a DOM node to render to\n",
              "      const toinsert = this.create_output_subarea(\n",
              "        metadata,\n",
              "        CLASS_NAME,\n",
              "        EXEC_MIME_TYPE\n",
              "      );\n",
              "      this.keyboard_manager.register_events(toinsert);\n",
              "      // Render to node\n",
              "      const props = {data: data, metadata: metadata[EXEC_MIME_TYPE]};\n",
              "      render(props, toinsert[toinsert.length - 1]);\n",
              "      element.append(toinsert);\n",
              "      return toinsert\n",
              "    }\n",
              "\n",
              "    /* Handle when an output is cleared or removed */\n",
              "    events.on('clear_output.CodeCell', handleClearOutput);\n",
              "    events.on('delete.Cell', handleClearOutput);\n",
              "\n",
              "    /* Handle when a new output is added */\n",
              "    events.on('output_added.OutputArea', handleAddOutput);\n",
              "\n",
              "    /**\n",
              "     * Register the mime type and append_mime function with output_area\n",
              "     */\n",
              "    OutputArea.prototype.register_mime_type(EXEC_MIME_TYPE, append_mime, {\n",
              "      /* Is output safe? */\n",
              "      safe: true,\n",
              "      /* Index of renderer in `output_area.display_order` */\n",
              "      index: 0\n",
              "    });\n",
              "  }\n",
              "\n",
              "  // register the mime type if in Jupyter Notebook environment and previously unregistered\n",
              "  if (root.Jupyter !== undefined) {\n",
              "    const events = require('base/js/events');\n",
              "    const OutputArea = require('notebook/js/outputarea').OutputArea;\n",
              "\n",
              "    if (OutputArea.prototype.mime_types().indexOf(EXEC_MIME_TYPE) == -1) {\n",
              "      register_renderer(events, OutputArea);\n",
              "    }\n",
              "  }\n",
              "\n",
              "  \n",
              "  if (typeof (root._bokeh_timeout) === \"undefined\" || force === true) {\n",
              "    root._bokeh_timeout = Date.now() + 5000;\n",
              "    root._bokeh_failed_load = false;\n",
              "  }\n",
              "\n",
              "  const NB_LOAD_WARNING = {'data': {'text/html':\n",
              "     \"<div style='background-color: #fdd'>\\n\"+\n",
              "     \"<p>\\n\"+\n",
              "     \"BokehJS does not appear to have successfully loaded. If loading BokehJS from CDN, this \\n\"+\n",
              "     \"may be due to a slow or bad network connection. Possible fixes:\\n\"+\n",
              "     \"</p>\\n\"+\n",
              "     \"<ul>\\n\"+\n",
              "     \"<li>re-rerun `output_notebook()` to attempt to load from CDN again, or</li>\\n\"+\n",
              "     \"<li>use INLINE resources instead, as so:</li>\\n\"+\n",
              "     \"</ul>\\n\"+\n",
              "     \"<code>\\n\"+\n",
              "     \"from bokeh.resources import INLINE\\n\"+\n",
              "     \"output_notebook(resources=INLINE)\\n\"+\n",
              "     \"</code>\\n\"+\n",
              "     \"</div>\"}};\n",
              "\n",
              "  function display_loaded() {\n",
              "    const el = document.getElementById(\"1808\");\n",
              "    if (el != null) {\n",
              "      el.textContent = \"BokehJS is loading...\";\n",
              "    }\n",
              "    if (root.Bokeh !== undefined) {\n",
              "      if (el != null) {\n",
              "        el.textContent = \"BokehJS \" + root.Bokeh.version + \" successfully loaded.\";\n",
              "      }\n",
              "    } else if (Date.now() < root._bokeh_timeout) {\n",
              "      setTimeout(display_loaded, 100)\n",
              "    }\n",
              "  }\n",
              "\n",
              "\n",
              "  function run_callbacks() {\n",
              "    try {\n",
              "      root._bokeh_onload_callbacks.forEach(function(callback) {\n",
              "        if (callback != null)\n",
              "          callback();\n",
              "      });\n",
              "    } finally {\n",
              "      delete root._bokeh_onload_callbacks\n",
              "    }\n",
              "    console.debug(\"Bokeh: all callbacks have finished\");\n",
              "  }\n",
              "\n",
              "  function load_libs(css_urls, js_urls, callback) {\n",
              "    if (css_urls == null) css_urls = [];\n",
              "    if (js_urls == null) js_urls = [];\n",
              "\n",
              "    root._bokeh_onload_callbacks.push(callback);\n",
              "    if (root._bokeh_is_loading > 0) {\n",
              "      console.debug(\"Bokeh: BokehJS is being loaded, scheduling callback at\", now());\n",
              "      return null;\n",
              "    }\n",
              "    if (js_urls == null || js_urls.length === 0) {\n",
              "      run_callbacks();\n",
              "      return null;\n",
              "    }\n",
              "    console.debug(\"Bokeh: BokehJS not loaded, scheduling load and callback at\", now());\n",
              "    root._bokeh_is_loading = css_urls.length + js_urls.length;\n",
              "\n",
              "    function on_load() {\n",
              "      root._bokeh_is_loading--;\n",
              "      if (root._bokeh_is_loading === 0) {\n",
              "        console.debug(\"Bokeh: all BokehJS libraries/stylesheets loaded\");\n",
              "        run_callbacks()\n",
              "      }\n",
              "    }\n",
              "\n",
              "    function on_error(url) {\n",
              "      console.error(\"failed to load \" + url);\n",
              "    }\n",
              "\n",
              "    for (let i = 0; i < css_urls.length; i++) {\n",
              "      const url = css_urls[i];\n",
              "      const element = document.createElement(\"link\");\n",
              "      element.onload = on_load;\n",
              "      element.onerror = on_error.bind(null, url);\n",
              "      element.rel = \"stylesheet\";\n",
              "      element.type = \"text/css\";\n",
              "      element.href = url;\n",
              "      console.debug(\"Bokeh: injecting link tag for BokehJS stylesheet: \", url);\n",
              "      document.body.appendChild(element);\n",
              "    }\n",
              "\n",
              "    for (let i = 0; i < js_urls.length; i++) {\n",
              "      const url = js_urls[i];\n",
              "      const element = document.createElement('script');\n",
              "      element.onload = on_load;\n",
              "      element.onerror = on_error.bind(null, url);\n",
              "      element.async = false;\n",
              "      element.src = url;\n",
              "      console.debug(\"Bokeh: injecting script tag for BokehJS library: \", url);\n",
              "      document.head.appendChild(element);\n",
              "    }\n",
              "  };\n",
              "\n",
              "  function inject_raw_css(css) {\n",
              "    const element = document.createElement(\"style\");\n",
              "    element.appendChild(document.createTextNode(css));\n",
              "    document.body.appendChild(element);\n",
              "  }\n",
              "\n",
              "  \n",
              "  const js_urls = [\"https://cdn.bokeh.org/bokeh/release/bokeh-2.4.1.min.js\", \"https://cdn.bokeh.org/bokeh/release/bokeh-gl-2.4.1.min.js\", \"https://cdn.bokeh.org/bokeh/release/bokeh-widgets-2.4.1.min.js\", \"https://cdn.bokeh.org/bokeh/release/bokeh-tables-2.4.1.min.js\", \"https://cdn.bokeh.org/bokeh/release/bokeh-mathjax-2.4.1.min.js\"];\n",
              "  const css_urls = [];\n",
              "  \n",
              "\n",
              "  const inline_js = [\n",
              "    function(Bokeh) {\n",
              "      Bokeh.set_log_level(\"info\");\n",
              "    },\n",
              "    function(Bokeh) {\n",
              "    \n",
              "    \n",
              "    }\n",
              "  ];\n",
              "\n",
              "  function run_inline_js() {\n",
              "    \n",
              "    if (root.Bokeh !== undefined || force === true) {\n",
              "      \n",
              "    for (let i = 0; i < inline_js.length; i++) {\n",
              "      inline_js[i].call(root, root.Bokeh);\n",
              "    }\n",
              "    if (force === true) {\n",
              "        display_loaded();\n",
              "      }} else if (Date.now() < root._bokeh_timeout) {\n",
              "      setTimeout(run_inline_js, 100);\n",
              "    } else if (!root._bokeh_failed_load) {\n",
              "      console.log(\"Bokeh: BokehJS failed to load within specified timeout.\");\n",
              "      root._bokeh_failed_load = true;\n",
              "    } else if (force !== true) {\n",
              "      const cell = $(document.getElementById(\"1808\")).parents('.cell').data().cell;\n",
              "      cell.output_area.append_execute_result(NB_LOAD_WARNING)\n",
              "    }\n",
              "\n",
              "  }\n",
              "\n",
              "  if (root._bokeh_is_loading === 0) {\n",
              "    console.debug(\"Bokeh: BokehJS loaded, going straight to plotting\");\n",
              "    run_inline_js();\n",
              "  } else {\n",
              "    load_libs(css_urls, js_urls, function() {\n",
              "      console.debug(\"Bokeh: BokehJS plotting callback run at\", now());\n",
              "      run_inline_js();\n",
              "    });\n",
              "  }\n",
              "}(window));"
            ],
            "application/vnd.bokehjs_load.v0+json": "\n(function(root) {\n  function now() {\n    return new Date();\n  }\n\n  const force = true;\n\n  if (typeof root._bokeh_onload_callbacks === \"undefined\" || force === true) {\n    root._bokeh_onload_callbacks = [];\n    root._bokeh_is_loading = undefined;\n  }\n\n  \n\n  \n  if (typeof (root._bokeh_timeout) === \"undefined\" || force === true) {\n    root._bokeh_timeout = Date.now() + 5000;\n    root._bokeh_failed_load = false;\n  }\n\n  const NB_LOAD_WARNING = {'data': {'text/html':\n     \"<div style='background-color: #fdd'>\\n\"+\n     \"<p>\\n\"+\n     \"BokehJS does not appear to have successfully loaded. If loading BokehJS from CDN, this \\n\"+\n     \"may be due to a slow or bad network connection. Possible fixes:\\n\"+\n     \"</p>\\n\"+\n     \"<ul>\\n\"+\n     \"<li>re-rerun `output_notebook()` to attempt to load from CDN again, or</li>\\n\"+\n     \"<li>use INLINE resources instead, as so:</li>\\n\"+\n     \"</ul>\\n\"+\n     \"<code>\\n\"+\n     \"from bokeh.resources import INLINE\\n\"+\n     \"output_notebook(resources=INLINE)\\n\"+\n     \"</code>\\n\"+\n     \"</div>\"}};\n\n  function display_loaded() {\n    const el = document.getElementById(\"1808\");\n    if (el != null) {\n      el.textContent = \"BokehJS is loading...\";\n    }\n    if (root.Bokeh !== undefined) {\n      if (el != null) {\n        el.textContent = \"BokehJS \" + root.Bokeh.version + \" successfully loaded.\";\n      }\n    } else if (Date.now() < root._bokeh_timeout) {\n      setTimeout(display_loaded, 100)\n    }\n  }\n\n\n  function run_callbacks() {\n    try {\n      root._bokeh_onload_callbacks.forEach(function(callback) {\n        if (callback != null)\n          callback();\n      });\n    } finally {\n      delete root._bokeh_onload_callbacks\n    }\n    console.debug(\"Bokeh: all callbacks have finished\");\n  }\n\n  function load_libs(css_urls, js_urls, callback) {\n    if (css_urls == null) css_urls = [];\n    if (js_urls == null) js_urls = [];\n\n    root._bokeh_onload_callbacks.push(callback);\n    if (root._bokeh_is_loading > 0) {\n      console.debug(\"Bokeh: BokehJS is being loaded, scheduling callback at\", now());\n      return null;\n    }\n    if (js_urls == null || js_urls.length === 0) {\n      run_callbacks();\n      return null;\n    }\n    console.debug(\"Bokeh: BokehJS not loaded, scheduling load and callback at\", now());\n    root._bokeh_is_loading = css_urls.length + js_urls.length;\n\n    function on_load() {\n      root._bokeh_is_loading--;\n      if (root._bokeh_is_loading === 0) {\n        console.debug(\"Bokeh: all BokehJS libraries/stylesheets loaded\");\n        run_callbacks()\n      }\n    }\n\n    function on_error(url) {\n      console.error(\"failed to load \" + url);\n    }\n\n    for (let i = 0; i < css_urls.length; i++) {\n      const url = css_urls[i];\n      const element = document.createElement(\"link\");\n      element.onload = on_load;\n      element.onerror = on_error.bind(null, url);\n      element.rel = \"stylesheet\";\n      element.type = \"text/css\";\n      element.href = url;\n      console.debug(\"Bokeh: injecting link tag for BokehJS stylesheet: \", url);\n      document.body.appendChild(element);\n    }\n\n    for (let i = 0; i < js_urls.length; i++) {\n      const url = js_urls[i];\n      const element = document.createElement('script');\n      element.onload = on_load;\n      element.onerror = on_error.bind(null, url);\n      element.async = false;\n      element.src = url;\n      console.debug(\"Bokeh: injecting script tag for BokehJS library: \", url);\n      document.head.appendChild(element);\n    }\n  };\n\n  function inject_raw_css(css) {\n    const element = document.createElement(\"style\");\n    element.appendChild(document.createTextNode(css));\n    document.body.appendChild(element);\n  }\n\n  \n  const js_urls = [\"https://cdn.bokeh.org/bokeh/release/bokeh-2.4.1.min.js\", \"https://cdn.bokeh.org/bokeh/release/bokeh-gl-2.4.1.min.js\", \"https://cdn.bokeh.org/bokeh/release/bokeh-widgets-2.4.1.min.js\", \"https://cdn.bokeh.org/bokeh/release/bokeh-tables-2.4.1.min.js\", \"https://cdn.bokeh.org/bokeh/release/bokeh-mathjax-2.4.1.min.js\"];\n  const css_urls = [];\n  \n\n  const inline_js = [\n    function(Bokeh) {\n      Bokeh.set_log_level(\"info\");\n    },\n    function(Bokeh) {\n    \n    \n    }\n  ];\n\n  function run_inline_js() {\n    \n    if (root.Bokeh !== undefined || force === true) {\n      \n    for (let i = 0; i < inline_js.length; i++) {\n      inline_js[i].call(root, root.Bokeh);\n    }\n    if (force === true) {\n        display_loaded();\n      }} else if (Date.now() < root._bokeh_timeout) {\n      setTimeout(run_inline_js, 100);\n    } else if (!root._bokeh_failed_load) {\n      console.log(\"Bokeh: BokehJS failed to load within specified timeout.\");\n      root._bokeh_failed_load = true;\n    } else if (force !== true) {\n      const cell = $(document.getElementById(\"1808\")).parents('.cell').data().cell;\n      cell.output_area.append_execute_result(NB_LOAD_WARNING)\n    }\n\n  }\n\n  if (root._bokeh_is_loading === 0) {\n    console.debug(\"Bokeh: BokehJS loaded, going straight to plotting\");\n    run_inline_js();\n  } else {\n    load_libs(css_urls, js_urls, function() {\n      console.debug(\"Bokeh: BokehJS plotting callback run at\", now());\n      run_inline_js();\n    });\n  }\n}(window));"
          },
          "metadata": {},
          "output_type": "display_data"
        }
      ],
      "source": [
        "W = 400\n",
        "H = 250\n",
        "bp.output_notebook()"
      ]
    },
    {
      "cell_type": "code",
      "execution_count": null,
      "id": "de56039c",
      "metadata": {
        "id": "de56039c",
        "outputId": "e102e19c-5b10-48fc-db73-538e3a76905b"
      },
      "outputs": [
        {
          "data": {
            "text/html": [
              "\n",
              "\n",
              "\n",
              "\n",
              "\n",
              "\n",
              "  <div class=\"bk-root\" id=\"4f241e40-3998-4cf3-abbc-4c45df3f7f09\" data-root-id=\"1812\"></div>\n"
            ]
          },
          "metadata": {},
          "output_type": "display_data"
        },
        {
          "data": {
            "application/javascript": [
              "(function(root) {\n",
              "  function embed_document(root) {\n",
              "    \n",
              "  const docs_json = {\"de4a2a9d-31de-4352-bf0e-148499892058\":{\"defs\":[],\"roots\":{\"references\":[{\"attributes\":{\"below\":[{\"id\":\"1823\"}],\"center\":[{\"id\":\"1826\"},{\"id\":\"1830\"}],\"height\":250,\"left\":[{\"id\":\"1827\"}],\"renderers\":[{\"id\":\"1839\"},{\"id\":\"1845\"}],\"title\":{\"id\":\"1813\"},\"toolbar\":{\"id\":\"1831\"},\"width\":400,\"x_range\":{\"id\":\"1815\"},\"x_scale\":{\"id\":\"1819\"},\"y_range\":{\"id\":\"1817\"},\"y_scale\":{\"id\":\"1821\"}},\"id\":\"1812\",\"subtype\":\"Figure\",\"type\":\"Plot\"},{\"attributes\":{},\"id\":\"1923\",\"type\":\"Selection\"},{\"attributes\":{},\"id\":\"1819\",\"type\":\"LinearScale\"},{\"attributes\":{\"fill_color\":{\"value\":\"orange\"},\"hatch_color\":{\"value\":\"orange\"},\"line_color\":{\"value\":\"orange\"},\"size\":{\"value\":10},\"x\":{\"value\":0},\"y\":{\"value\":0}},\"id\":\"1842\",\"type\":\"Circle\"},{\"attributes\":{\"axis_label_text_font_size\":\"14pt\",\"coordinates\":null,\"formatter\":{\"id\":\"1920\"},\"group\":null,\"major_label_policy\":{\"id\":\"1921\"},\"ticker\":{\"id\":\"1824\"}},\"id\":\"1823\",\"type\":\"LinearAxis\"},{\"attributes\":{},\"id\":\"1809\",\"type\":\"WheelZoomTool\"},{\"attributes\":{\"line_alpha\":0.2,\"line_color\":\"navy\",\"line_width\":3,\"x\":{\"field\":\"x\"},\"y\":{\"field\":\"y\"}},\"id\":\"1838\",\"type\":\"Line\"},{\"attributes\":{},\"id\":\"1811\",\"type\":\"PanTool\"},{\"attributes\":{\"line_alpha\":0.5,\"line_color\":\"navy\",\"line_width\":3,\"x\":{\"field\":\"x\"},\"y\":{\"field\":\"y\"}},\"id\":\"1836\",\"type\":\"Line\"},{\"attributes\":{},\"id\":\"1815\",\"type\":\"DataRange1d\"},{\"attributes\":{\"tools\":[{\"id\":\"1809\"},{\"id\":\"1810\"},{\"id\":\"1811\"}]},\"id\":\"1831\",\"type\":\"Toolbar\"},{\"attributes\":{},\"id\":\"1917\",\"type\":\"BasicTickFormatter\"},{\"attributes\":{},\"id\":\"1817\",\"type\":\"DataRange1d\"},{\"attributes\":{},\"id\":\"1918\",\"type\":\"AllLabels\"},{\"attributes\":{\"fill_alpha\":{\"value\":0.2},\"fill_color\":{\"value\":\"orange\"},\"hatch_alpha\":{\"value\":0.2},\"hatch_color\":{\"value\":\"orange\"},\"line_alpha\":{\"value\":0.2},\"line_color\":{\"value\":\"orange\"},\"size\":{\"value\":10},\"x\":{\"value\":0},\"y\":{\"value\":0}},\"id\":\"1844\",\"type\":\"Circle\"},{\"attributes\":{},\"id\":\"1922\",\"type\":\"UnionRenderers\"},{\"attributes\":{},\"id\":\"1821\",\"type\":\"LinearScale\"},{\"attributes\":{\"coordinates\":null,\"data_source\":{\"id\":\"1841\"},\"glyph\":{\"id\":\"1842\"},\"group\":null,\"hover_glyph\":null,\"muted_glyph\":{\"id\":\"1844\"},\"nonselection_glyph\":{\"id\":\"1843\"},\"view\":{\"id\":\"1846\"}},\"id\":\"1845\",\"type\":\"GlyphRenderer\"},{\"attributes\":{\"source\":{\"id\":\"1841\"}},\"id\":\"1846\",\"type\":\"CDSView\"},{\"attributes\":{},\"id\":\"1924\",\"type\":\"UnionRenderers\"},{\"attributes\":{\"coordinates\":null,\"data_source\":{\"id\":\"1835\"},\"glyph\":{\"id\":\"1836\"},\"group\":null,\"hover_glyph\":null,\"muted_glyph\":{\"id\":\"1838\"},\"nonselection_glyph\":{\"id\":\"1837\"},\"view\":{\"id\":\"1840\"}},\"id\":\"1839\",\"type\":\"GlyphRenderer\"},{\"attributes\":{},\"id\":\"1921\",\"type\":\"AllLabels\"},{\"attributes\":{\"axis\":{\"id\":\"1823\"},\"coordinates\":null,\"group\":null,\"ticker\":null},\"id\":\"1826\",\"type\":\"Grid\"},{\"attributes\":{\"source\":{\"id\":\"1835\"}},\"id\":\"1840\",\"type\":\"CDSView\"},{\"attributes\":{\"coordinates\":null,\"group\":null,\"text\":\"Local minimum of function\",\"text_font_size\":\"12pt\"},\"id\":\"1813\",\"type\":\"Title\"},{\"attributes\":{},\"id\":\"1920\",\"type\":\"BasicTickFormatter\"},{\"attributes\":{\"axis_label_text_font_size\":\"14pt\",\"coordinates\":null,\"formatter\":{\"id\":\"1917\"},\"group\":null,\"major_label_policy\":{\"id\":\"1918\"},\"ticker\":{\"id\":\"1828\"}},\"id\":\"1827\",\"type\":\"LinearAxis\"},{\"attributes\":{\"fill_alpha\":{\"value\":0.1},\"fill_color\":{\"value\":\"orange\"},\"hatch_alpha\":{\"value\":0.1},\"hatch_color\":{\"value\":\"orange\"},\"line_alpha\":{\"value\":0.1},\"line_color\":{\"value\":\"orange\"},\"size\":{\"value\":10},\"x\":{\"value\":0},\"y\":{\"value\":0}},\"id\":\"1843\",\"type\":\"Circle\"},{\"attributes\":{},\"id\":\"1824\",\"type\":\"BasicTicker\"},{\"attributes\":{},\"id\":\"1925\",\"type\":\"Selection\"},{\"attributes\":{},\"id\":\"1828\",\"type\":\"BasicTicker\"},{\"attributes\":{\"line_alpha\":0.1,\"line_color\":\"navy\",\"line_width\":3,\"x\":{\"field\":\"x\"},\"y\":{\"field\":\"y\"}},\"id\":\"1837\",\"type\":\"Line\"},{\"attributes\":{\"axis\":{\"id\":\"1827\"},\"coordinates\":null,\"dimension\":1,\"group\":null,\"ticker\":null},\"id\":\"1830\",\"type\":\"Grid\"},{\"attributes\":{\"data\":{\"x\":{\"__ndarray__\":\"AAAAAAAALsBlk0022WQtwMomm2yyySzALrrooosuLMCTTTbZZJMrwPjggw8++CrAXXTRRRddKsDCBx988MEpwCebbLLJJinAjC666KKLKMDwwQcffPAnwFVVVVVVVSfAuuiiiy66JsAffPDBBx8mwIQPPvjggyXA6KKLLrroJMBONtlkk00kwLLJJptssiPAF1100UUXI8B88MEHH3wiwOGDDz744CHARhdddNFFIcCqqqqqqqogwBA++OCDDyDA6KKLLrroHsCyySabbLIdwHzwwQcffBzARhdddNFFG8AQPvjggw8awNhkk0022RjAoosuuuiiF8Bssskmm2wWwDbZZJNNNhXAAAAAAAAAFMDKJptssskSwJRNNtlkkxHAXHTRRRddEMBMNtlkk00OwOCDDz744AvAdNFFF110CcAIH3zwwQcHwJxssskmmwTALLrooosuAsCADz744IP/v6iqqqqqqvq/0EUXXXTR9b/44IMPPvjwv0D44IMPPui/AF100UUX3b9Ak0022WTDv4CTTTbZZMM/IF100UUX3T9A+OCDDz7oPwDhgw8++PA/0EUXXXTR9T+wqqqqqqr6P4APPvjgg/8/MLrooosuAkCgbLLJJpsEQAgffPDBBwdAeNFFF110CUDggw8++OALQFA22WSTTQ5AXHTRRRddEECUTTbZZJMRQMwmm2yyyRJAAAAAAAAAFEA42WSTTTYVQGyyySabbBZApIsuuuiiF0DYZJNNNtkYQBA++OCDDxpASBdddNFFG0B88MEHH3wcQLTJJptssh1A6KKLLrroHkAQPvjggw8gQKyqqqqqqiBARhdddNFFIUDigw8++OAhQHzwwQcffCJAGF100UUXI0CyySabbLIjQE422WSTTSRA6qKLLrroJECEDz744IMlQCB88MEHHyZAuuiiiy66JkBWVVVVVVUnQPDBBx988CdAjC666KKLKEAom2yyySYpQMIHH3zwwSlAXnTRRRddKkD44IMPPvgqQJRNNtlkkytAMLrooosuLEDKJptsssksQGaTTTbZZC1AAAAAAAAALkA=\",\"dtype\":\"float64\",\"order\":\"little\",\"shape\":[100]},\"y\":{\"__ndarray__\":\"AAAAAAAgbEDZaMKFBwBrQKe6Zovv5WlAa/XsELjRaEAnGVUWYcNnQNkln5vqumZAgRvLoFS4ZUAg+tgln7tkQLXByCrKxGNAQHKar9XTYkDAC060wehhQDiO4ziOA2FAp/laPTskYEAXnGiDkZVeQM4W34tt7lxAbmMZlApTW0ABghecaMNZQHty2aOHP1hA5DRfq2fHVkA6yaiyCFtVQHwvtrlq+lNArGeHwI2lUkDGcRzHcVxRQNFNdc0WH1BAiPcjp/naTUBN9+SyR49LQOqaLb4XW0lAYuL9yGk+R0CyzVXTPTlFQNlcNd2TS0NA3Y+c5mt1QUB0zRbfi20/QODCA/BDHzxAAAAAAAAAOUDShAsPwA82QFhRJh2ETjNAjGVQKky8MEDtghNtMLIsQCnKpIPQSShAy6BUmHg/JEDSBiOrKJMgQHz4H3jBiRpAGAI3lkGpFEASVRZhowkPQIrjOI7jOAZAMV+rZ4fA/T97ctmjh//xP+QB+KGPXeI/dlSYeD9yyj8Z2aOH/4GXP7TZo4f/gZc/sVSYeD9yyj/kAfihj13iP4xy2aOH//E/MV+rZ4fA/T+X4ziO4zgGQBJVFmGjCQ9AIQI3lkGpFECH+B94wYkaQNIGI6sokyBA0aBUmHg/JEApyqSD0EkoQPWCE20wsixAjGVQKky8MEBYUSYdhE4zQNeECw/ADzZAAAAAAAAAOUDmwgPwQx88QHTNFt+LbT9A4I+c5mt1QUDZXDXdk0tDQLLNVdM9OUVAZeL9yGk+R0Dqmi2+F1tJQFD35LJHj0tAiPcjp/naTUDRTXXNFh9QQMpxHMdxXFFArGeHwI2lUkB/L7a5avpTQDrJqLIIW1VA5jRfq2fHVkB7ctmjhz9YQAGCF5xow1lAc2MZlApTW0DOFt+Lbe5cQBqcaIORlV5Ap/laPTskYEA6juM4jgNhQMALTrTB6GFAQHKar9XTYkC2wcgqysRjQCD62CWfu2RAgxvLoFS4ZUDZJZ+b6rpmQCgZVRZhw2dAbvXsELjRaECnumaL7+VpQNpowoUHAGtAAAAAAAAgbEA=\",\"dtype\":\"float64\",\"order\":\"little\",\"shape\":[100]}},\"selected\":{\"id\":\"1923\"},\"selection_policy\":{\"id\":\"1922\"}},\"id\":\"1835\",\"type\":\"ColumnDataSource\"},{\"attributes\":{\"data\":{},\"selected\":{\"id\":\"1925\"},\"selection_policy\":{\"id\":\"1924\"}},\"id\":\"1841\",\"type\":\"ColumnDataSource\"},{\"attributes\":{},\"id\":\"1810\",\"type\":\"ResetTool\"}],\"root_ids\":[\"1812\"]},\"title\":\"Bokeh Application\",\"version\":\"2.4.1\"}};\n",
              "  const render_items = [{\"docid\":\"de4a2a9d-31de-4352-bf0e-148499892058\",\"root_ids\":[\"1812\"],\"roots\":{\"1812\":\"4f241e40-3998-4cf3-abbc-4c45df3f7f09\"}}];\n",
              "  root.Bokeh.embed.embed_items_notebook(docs_json, render_items);\n",
              "\n",
              "  }\n",
              "  if (root.Bokeh !== undefined) {\n",
              "    embed_document(root);\n",
              "  } else {\n",
              "    let attempts = 0;\n",
              "    const timer = setInterval(function(root) {\n",
              "      if (root.Bokeh !== undefined) {\n",
              "        clearInterval(timer);\n",
              "        embed_document(root);\n",
              "      } else {\n",
              "        attempts++;\n",
              "        if (attempts > 100) {\n",
              "          clearInterval(timer);\n",
              "          console.log(\"Bokeh: ERROR: Unable to run BokehJS code because BokehJS library is missing\");\n",
              "        }\n",
              "      }\n",
              "    }, 10, root)\n",
              "  }\n",
              "})(window);"
            ],
            "application/vnd.bokehjs_exec.v0+json": ""
          },
          "metadata": {
            "application/vnd.bokehjs_exec.v0+json": {
              "id": "1812"
            }
          },
          "output_type": "display_data"
        }
      ],
      "source": [
        "x = np.linspace(-15,15,100)\n",
        "y = x**2\n",
        "\n",
        "TOOLS = [WheelZoomTool(), ResetTool(), PanTool()]\n",
        "\n",
        "s1 = bp.figure(width=W, plot_height=H,\n",
        "               title='Local minimum of function',\n",
        "               tools=TOOLS)\n",
        "s1.line(x, y, color=\"navy\", alpha=0.5, line_width=3)\n",
        "s1.circle(0, 0, size =10, color=\"orange\")\n",
        "s1.title.text_font_size = '12pt'\n",
        "s1.yaxis.axis_label_text_font_size = \"14pt\"\n",
        "s1.xaxis.axis_label_text_font_size = \"14pt\"\n",
        "\n",
        "bp.show(s1)"
      ]
    },
    {
      "cell_type": "code",
      "execution_count": null,
      "id": "7d21527b",
      "metadata": {
        "id": "7d21527b",
        "outputId": "e6ea9db5-7e91-43e1-ec69-a0804a90ad48"
      },
      "outputs": [
        {
          "data": {
            "text/html": [
              "\n",
              "\n",
              "\n",
              "\n",
              "\n",
              "\n",
              "  <div class=\"bk-root\" id=\"e3970b8c-e2bb-416b-9ec8-51c00f2492ac\" data-root-id=\"1984\"></div>\n"
            ]
          },
          "metadata": {},
          "output_type": "display_data"
        },
        {
          "data": {
            "application/javascript": [
              "(function(root) {\n",
              "  function embed_document(root) {\n",
              "    \n",
              "  const docs_json = {\"cd605035-b66b-4004-9ba4-3dc84e330742\":{\"defs\":[],\"roots\":{\"references\":[{\"attributes\":{\"below\":[{\"id\":\"1995\"}],\"center\":[{\"id\":\"1998\"},{\"id\":\"2002\"}],\"height\":250,\"left\":[{\"id\":\"1999\"}],\"renderers\":[{\"id\":\"2011\"},{\"id\":\"2017\"}],\"title\":{\"id\":\"1985\"},\"toolbar\":{\"id\":\"2003\"},\"width\":400,\"x_range\":{\"id\":\"1987\"},\"x_scale\":{\"id\":\"1991\"},\"y_range\":{\"id\":\"1989\"},\"y_scale\":{\"id\":\"1993\"}},\"id\":\"1984\",\"subtype\":\"Figure\",\"type\":\"Plot\"},{\"attributes\":{\"fill_color\":{\"value\":\"orange\"},\"hatch_color\":{\"value\":\"orange\"},\"line_color\":{\"value\":\"orange\"},\"size\":{\"value\":10},\"x\":{\"value\":0},\"y\":{\"value\":0}},\"id\":\"2014\",\"type\":\"Circle\"},{\"attributes\":{},\"id\":\"1981\",\"type\":\"WheelZoomTool\"},{\"attributes\":{},\"id\":\"1983\",\"type\":\"PanTool\"},{\"attributes\":{},\"id\":\"2101\",\"type\":\"AllLabels\"},{\"attributes\":{\"line_alpha\":0.5,\"line_color\":\"navy\",\"line_width\":3,\"x\":{\"field\":\"x\"},\"y\":{\"field\":\"y\"}},\"id\":\"2008\",\"type\":\"Line\"},{\"attributes\":{},\"id\":\"2107\",\"type\":\"UnionRenderers\"},{\"attributes\":{\"line_alpha\":0.1,\"line_color\":\"navy\",\"line_width\":3,\"x\":{\"field\":\"x\"},\"y\":{\"field\":\"y\"}},\"id\":\"2009\",\"type\":\"Line\"},{\"attributes\":{},\"id\":\"1982\",\"type\":\"ResetTool\"},{\"attributes\":{\"source\":{\"id\":\"2007\"}},\"id\":\"2012\",\"type\":\"CDSView\"},{\"attributes\":{\"data\":{},\"selected\":{\"id\":\"2108\"},\"selection_policy\":{\"id\":\"2107\"}},\"id\":\"2013\",\"type\":\"ColumnDataSource\"},{\"attributes\":{\"data\":{\"x\":{\"__ndarray__\":\"AAAAAAAALsBlk0022WQtwMomm2yyySzALrrooosuLMCTTTbZZJMrwPjggw8++CrAXXTRRRddKsDCBx988MEpwCebbLLJJinAjC666KKLKMDwwQcffPAnwFVVVVVVVSfAuuiiiy66JsAffPDBBx8mwIQPPvjggyXA6KKLLrroJMBONtlkk00kwLLJJptssiPAF1100UUXI8B88MEHH3wiwOGDDz744CHARhdddNFFIcCqqqqqqqogwBA++OCDDyDA6KKLLrroHsCyySabbLIdwHzwwQcffBzARhdddNFFG8AQPvjggw8awNhkk0022RjAoosuuuiiF8Bssskmm2wWwDbZZJNNNhXAAAAAAAAAFMDKJptssskSwJRNNtlkkxHAXHTRRRddEMBMNtlkk00OwOCDDz744AvAdNFFF110CcAIH3zwwQcHwJxssskmmwTALLrooosuAsCADz744IP/v6iqqqqqqvq/0EUXXXTR9b/44IMPPvjwv0D44IMPPui/AF100UUX3b9Ak0022WTDv4CTTTbZZMM/IF100UUX3T9A+OCDDz7oPwDhgw8++PA/0EUXXXTR9T+wqqqqqqr6P4APPvjgg/8/MLrooosuAkCgbLLJJpsEQAgffPDBBwdAeNFFF110CUDggw8++OALQFA22WSTTQ5AXHTRRRddEECUTTbZZJMRQMwmm2yyyRJAAAAAAAAAFEA42WSTTTYVQGyyySabbBZApIsuuuiiF0DYZJNNNtkYQBA++OCDDxpASBdddNFFG0B88MEHH3wcQLTJJptssh1A6KKLLrroHkAQPvjggw8gQKyqqqqqqiBARhdddNFFIUDigw8++OAhQHzwwQcffCJAGF100UUXI0CyySabbLIjQE422WSTTSRA6qKLLrroJECEDz744IMlQCB88MEHHyZAuuiiiy66JkBWVVVVVVUnQPDBBx988CdAjC666KKLKEAom2yyySYpQMIHH3zwwSlAXnTRRRddKkD44IMPPvgqQJRNNtlkkytAMLrooosuLEDKJptsssksQGaTTTbZZC1AAAAAAAAALkA=\",\"dtype\":\"float64\",\"order\":\"little\",\"shape\":[100]},\"y\":{\"__ndarray__\":\"AAAAAAAgbMDZaMKFBwBrwKe6Zovv5WnAa/XsELjRaMAnGVUWYcNnwNkln5vqumbAgRvLoFS4ZcAg+tgln7tkwLXByCrKxGPAQHKar9XTYsDAC060wehhwDiO4ziOA2HAp/laPTskYMAXnGiDkZVewM4W34tt7lzAbmMZlApTW8ABghecaMNZwHty2aOHP1jA5DRfq2fHVsA6yaiyCFtVwHwvtrlq+lPArGeHwI2lUsDGcRzHcVxRwNFNdc0WH1DAiPcjp/naTcBN9+SyR49LwOqaLb4XW0nAYuL9yGk+R8CyzVXTPTlFwNlcNd2TS0PA3Y+c5mt1QcB0zRbfi20/wODCA/BDHzzAAAAAAAAAOcDShAsPwA82wFhRJh2ETjPAjGVQKky8MMDtghNtMLIswCnKpIPQSSjAy6BUmHg/JMDSBiOrKJMgwHz4H3jBiRrAGAI3lkGpFMASVRZhowkPwIrjOI7jOAbAMV+rZ4fA/b97ctmjh//xv+QB+KGPXeK/dlSYeD9yyr8Z2aOH/4GXv7TZo4f/gZe/sVSYeD9yyr/kAfihj13iv4xy2aOH//G/MV+rZ4fA/b+X4ziO4zgGwBJVFmGjCQ/AIQI3lkGpFMCH+B94wYkawNIGI6sokyDA0aBUmHg/JMApyqSD0EkowPWCE20wsizAjGVQKky8MMBYUSYdhE4zwNeECw/ADzbAAAAAAAAAOcDmwgPwQx88wHTNFt+LbT/A4I+c5mt1QcDZXDXdk0tDwLLNVdM9OUXAZeL9yGk+R8Dqmi2+F1tJwFD35LJHj0vAiPcjp/naTcDRTXXNFh9QwMpxHMdxXFHArGeHwI2lUsB/L7a5avpTwDrJqLIIW1XA5jRfq2fHVsB7ctmjhz9YwAGCF5xow1nAc2MZlApTW8DOFt+Lbe5cwBqcaIORlV7Ap/laPTskYMA6juM4jgNhwMALTrTB6GHAQHKar9XTYsC2wcgqysRjwCD62CWfu2TAgxvLoFS4ZcDZJZ+b6rpmwCgZVRZhw2fAbvXsELjRaMCnumaL7+VpwNpowoUHAGvAAAAAAAAgbMA=\",\"dtype\":\"float64\",\"order\":\"little\",\"shape\":[100]}},\"selected\":{\"id\":\"2106\"},\"selection_policy\":{\"id\":\"2105\"}},\"id\":\"2007\",\"type\":\"ColumnDataSource\"},{\"attributes\":{},\"id\":\"2104\",\"type\":\"AllLabels\"},{\"attributes\":{},\"id\":\"1987\",\"type\":\"DataRange1d\"},{\"attributes\":{},\"id\":\"1989\",\"type\":\"DataRange1d\"},{\"attributes\":{},\"id\":\"2100\",\"type\":\"BasicTickFormatter\"},{\"attributes\":{},\"id\":\"2000\",\"type\":\"BasicTicker\"},{\"attributes\":{},\"id\":\"1993\",\"type\":\"LinearScale\"},{\"attributes\":{\"axis\":{\"id\":\"1995\"},\"coordinates\":null,\"group\":null,\"ticker\":null},\"id\":\"1998\",\"type\":\"Grid\"},{\"attributes\":{},\"id\":\"1996\",\"type\":\"BasicTicker\"},{\"attributes\":{},\"id\":\"2103\",\"type\":\"BasicTickFormatter\"},{\"attributes\":{},\"id\":\"2105\",\"type\":\"UnionRenderers\"},{\"attributes\":{\"coordinates\":null,\"group\":null,\"text\":\"Local maximum of function\",\"text_font_size\":\"12pt\"},\"id\":\"1985\",\"type\":\"Title\"},{\"attributes\":{},\"id\":\"1991\",\"type\":\"LinearScale\"},{\"attributes\":{\"coordinates\":null,\"data_source\":{\"id\":\"2007\"},\"glyph\":{\"id\":\"2008\"},\"group\":null,\"hover_glyph\":null,\"muted_glyph\":{\"id\":\"2010\"},\"nonselection_glyph\":{\"id\":\"2009\"},\"view\":{\"id\":\"2012\"}},\"id\":\"2011\",\"type\":\"GlyphRenderer\"},{\"attributes\":{\"axis_label_text_font_size\":\"14pt\",\"coordinates\":null,\"formatter\":{\"id\":\"2103\"},\"group\":null,\"major_label_policy\":{\"id\":\"2104\"},\"ticker\":{\"id\":\"1996\"}},\"id\":\"1995\",\"type\":\"LinearAxis\"},{\"attributes\":{\"fill_alpha\":{\"value\":0.2},\"fill_color\":{\"value\":\"orange\"},\"hatch_alpha\":{\"value\":0.2},\"hatch_color\":{\"value\":\"orange\"},\"line_alpha\":{\"value\":0.2},\"line_color\":{\"value\":\"orange\"},\"size\":{\"value\":10},\"x\":{\"value\":0},\"y\":{\"value\":0}},\"id\":\"2016\",\"type\":\"Circle\"},{\"attributes\":{},\"id\":\"2108\",\"type\":\"Selection\"},{\"attributes\":{\"axis_label_text_font_size\":\"14pt\",\"coordinates\":null,\"formatter\":{\"id\":\"2100\"},\"group\":null,\"major_label_policy\":{\"id\":\"2101\"},\"ticker\":{\"id\":\"2000\"}},\"id\":\"1999\",\"type\":\"LinearAxis\"},{\"attributes\":{\"line_alpha\":0.2,\"line_color\":\"navy\",\"line_width\":3,\"x\":{\"field\":\"x\"},\"y\":{\"field\":\"y\"}},\"id\":\"2010\",\"type\":\"Line\"},{\"attributes\":{\"axis\":{\"id\":\"1999\"},\"coordinates\":null,\"dimension\":1,\"group\":null,\"ticker\":null},\"id\":\"2002\",\"type\":\"Grid\"},{\"attributes\":{\"fill_alpha\":{\"value\":0.1},\"fill_color\":{\"value\":\"orange\"},\"hatch_alpha\":{\"value\":0.1},\"hatch_color\":{\"value\":\"orange\"},\"line_alpha\":{\"value\":0.1},\"line_color\":{\"value\":\"orange\"},\"size\":{\"value\":10},\"x\":{\"value\":0},\"y\":{\"value\":0}},\"id\":\"2015\",\"type\":\"Circle\"},{\"attributes\":{\"coordinates\":null,\"data_source\":{\"id\":\"2013\"},\"glyph\":{\"id\":\"2014\"},\"group\":null,\"hover_glyph\":null,\"muted_glyph\":{\"id\":\"2016\"},\"nonselection_glyph\":{\"id\":\"2015\"},\"view\":{\"id\":\"2018\"}},\"id\":\"2017\",\"type\":\"GlyphRenderer\"},{\"attributes\":{\"tools\":[{\"id\":\"1981\"},{\"id\":\"1982\"},{\"id\":\"1983\"}]},\"id\":\"2003\",\"type\":\"Toolbar\"},{\"attributes\":{\"source\":{\"id\":\"2013\"}},\"id\":\"2018\",\"type\":\"CDSView\"},{\"attributes\":{},\"id\":\"2106\",\"type\":\"Selection\"}],\"root_ids\":[\"1984\"]},\"title\":\"Bokeh Application\",\"version\":\"2.4.1\"}};\n",
              "  const render_items = [{\"docid\":\"cd605035-b66b-4004-9ba4-3dc84e330742\",\"root_ids\":[\"1984\"],\"roots\":{\"1984\":\"e3970b8c-e2bb-416b-9ec8-51c00f2492ac\"}}];\n",
              "  root.Bokeh.embed.embed_items_notebook(docs_json, render_items);\n",
              "\n",
              "  }\n",
              "  if (root.Bokeh !== undefined) {\n",
              "    embed_document(root);\n",
              "  } else {\n",
              "    let attempts = 0;\n",
              "    const timer = setInterval(function(root) {\n",
              "      if (root.Bokeh !== undefined) {\n",
              "        clearInterval(timer);\n",
              "        embed_document(root);\n",
              "      } else {\n",
              "        attempts++;\n",
              "        if (attempts > 100) {\n",
              "          clearInterval(timer);\n",
              "          console.log(\"Bokeh: ERROR: Unable to run BokehJS code because BokehJS library is missing\");\n",
              "        }\n",
              "      }\n",
              "    }, 10, root)\n",
              "  }\n",
              "})(window);"
            ],
            "application/vnd.bokehjs_exec.v0+json": ""
          },
          "metadata": {
            "application/vnd.bokehjs_exec.v0+json": {
              "id": "1984"
            }
          },
          "output_type": "display_data"
        }
      ],
      "source": [
        "x = np.linspace(-15,15,100)\n",
        "y = -x**2\n",
        "\n",
        "TOOLS = [WheelZoomTool(), ResetTool(), PanTool()]\n",
        "\n",
        "\n",
        "s1 = bp.figure(width=W, plot_height=H,\n",
        "               title='Local maximum of function',\n",
        "               tools=TOOLS)\n",
        "s1.line(x, y, color=\"navy\", alpha=0.5, line_width=3)\n",
        "s1.circle(0, 0, size =10, color=\"orange\")\n",
        "s1.title.text_font_size = '12pt'\n",
        "s1.yaxis.axis_label_text_font_size = \"14pt\"\n",
        "s1.xaxis.axis_label_text_font_size = \"14pt\"\n",
        "\n",
        "bp.show(s1)"
      ]
    },
    {
      "cell_type": "code",
      "execution_count": null,
      "id": "bada1dd0",
      "metadata": {
        "id": "bada1dd0",
        "outputId": "c8e35d2a-5d59-414f-a7cf-7431c132e912"
      },
      "outputs": [
        {
          "data": {
            "text/html": [
              "\n",
              "\n",
              "\n",
              "\n",
              "\n",
              "\n",
              "  <div class=\"bk-root\" id=\"91f10c0d-a560-4669-850f-2d2956a7fcc6\" data-root-id=\"2167\"></div>\n"
            ]
          },
          "metadata": {},
          "output_type": "display_data"
        },
        {
          "data": {
            "application/javascript": [
              "(function(root) {\n",
              "  function embed_document(root) {\n",
              "    \n",
              "  const docs_json = {\"117c0923-93f8-4ae9-91c2-363abec9732f\":{\"defs\":[],\"roots\":{\"references\":[{\"attributes\":{\"below\":[{\"id\":\"2178\"}],\"center\":[{\"id\":\"2181\"},{\"id\":\"2185\"}],\"height\":250,\"left\":[{\"id\":\"2182\"}],\"renderers\":[{\"id\":\"2194\"},{\"id\":\"2200\"}],\"title\":{\"id\":\"2168\"},\"toolbar\":{\"id\":\"2186\"},\"width\":400,\"x_range\":{\"id\":\"2170\"},\"x_scale\":{\"id\":\"2174\"},\"y_range\":{\"id\":\"2172\"},\"y_scale\":{\"id\":\"2176\"}},\"id\":\"2167\",\"subtype\":\"Figure\",\"type\":\"Plot\"},{\"attributes\":{},\"id\":\"2300\",\"type\":\"Selection\"},{\"attributes\":{},\"id\":\"2301\",\"type\":\"UnionRenderers\"},{\"attributes\":{\"coordinates\":null,\"data_source\":{\"id\":\"2196\"},\"glyph\":{\"id\":\"2197\"},\"group\":null,\"hover_glyph\":null,\"muted_glyph\":{\"id\":\"2199\"},\"nonselection_glyph\":{\"id\":\"2198\"},\"view\":{\"id\":\"2201\"}},\"id\":\"2200\",\"type\":\"GlyphRenderer\"},{\"attributes\":{\"fill_color\":{\"value\":\"orange\"},\"hatch_color\":{\"value\":\"orange\"},\"line_color\":{\"value\":\"orange\"},\"size\":{\"value\":10},\"x\":{\"value\":0},\"y\":{\"value\":0}},\"id\":\"2197\",\"type\":\"Circle\"},{\"attributes\":{},\"id\":\"2164\",\"type\":\"WheelZoomTool\"},{\"attributes\":{},\"id\":\"2166\",\"type\":\"PanTool\"},{\"attributes\":{\"line_alpha\":0.2,\"line_color\":\"navy\",\"line_width\":3,\"x\":{\"field\":\"x\"},\"y\":{\"field\":\"y\"}},\"id\":\"2193\",\"type\":\"Line\"},{\"attributes\":{\"line_alpha\":0.1,\"line_color\":\"navy\",\"line_width\":3,\"x\":{\"field\":\"x\"},\"y\":{\"field\":\"y\"}},\"id\":\"2192\",\"type\":\"Line\"},{\"attributes\":{\"fill_alpha\":{\"value\":0.2},\"fill_color\":{\"value\":\"orange\"},\"hatch_alpha\":{\"value\":0.2},\"hatch_color\":{\"value\":\"orange\"},\"line_alpha\":{\"value\":0.2},\"line_color\":{\"value\":\"orange\"},\"size\":{\"value\":10},\"x\":{\"value\":0},\"y\":{\"value\":0}},\"id\":\"2199\",\"type\":\"Circle\"},{\"attributes\":{},\"id\":\"2165\",\"type\":\"ResetTool\"},{\"attributes\":{\"data\":{},\"selected\":{\"id\":\"2302\"},\"selection_policy\":{\"id\":\"2301\"}},\"id\":\"2196\",\"type\":\"ColumnDataSource\"},{\"attributes\":{},\"id\":\"2183\",\"type\":\"BasicTicker\"},{\"attributes\":{\"data\":{\"x\":{\"__ndarray__\":\"AAAAAAAALsBlk0022WQtwMomm2yyySzALrrooosuLMCTTTbZZJMrwPjggw8++CrAXXTRRRddKsDCBx988MEpwCebbLLJJinAjC666KKLKMDwwQcffPAnwFVVVVVVVSfAuuiiiy66JsAffPDBBx8mwIQPPvjggyXA6KKLLrroJMBONtlkk00kwLLJJptssiPAF1100UUXI8B88MEHH3wiwOGDDz744CHARhdddNFFIcCqqqqqqqogwBA++OCDDyDA6KKLLrroHsCyySabbLIdwHzwwQcffBzARhdddNFFG8AQPvjggw8awNhkk0022RjAoosuuuiiF8Bssskmm2wWwDbZZJNNNhXAAAAAAAAAFMDKJptssskSwJRNNtlkkxHAXHTRRRddEMBMNtlkk00OwOCDDz744AvAdNFFF110CcAIH3zwwQcHwJxssskmmwTALLrooosuAsCADz744IP/v6iqqqqqqvq/0EUXXXTR9b/44IMPPvjwv0D44IMPPui/AF100UUX3b9Ak0022WTDv4CTTTbZZMM/IF100UUX3T9A+OCDDz7oPwDhgw8++PA/0EUXXXTR9T+wqqqqqqr6P4APPvjgg/8/MLrooosuAkCgbLLJJpsEQAgffPDBBwdAeNFFF110CUDggw8++OALQFA22WSTTQ5AXHTRRRddEECUTTbZZJMRQMwmm2yyyRJAAAAAAAAAFEA42WSTTTYVQGyyySabbBZApIsuuuiiF0DYZJNNNtkYQBA++OCDDxpASBdddNFFG0B88MEHH3wcQLTJJptssh1A6KKLLrroHkAQPvjggw8gQKyqqqqqqiBARhdddNFFIUDigw8++OAhQHzwwQcffCJAGF100UUXI0CyySabbLIjQE422WSTTSRA6qKLLrroJECEDz744IMlQCB88MEHHyZAuuiiiy66JkBWVVVVVVUnQPDBBx988CdAjC666KKLKEAom2yyySYpQMIHH3zwwSlAXnTRRRddKkD44IMPPvgqQJRNNtlkkytAMLrooosuLEDKJptsssksQGaTTTbZZC1AAAAAAAAALkA=\",\"dtype\":\"float64\",\"order\":\"little\",\"shape\":[100]},\"y\":{\"__ndarray__\":\"AAAAAABeqsC7sr4uHs2owJ6Rh0luTKfAlmm51JrbpcCdB7NUTnqkwKA4000zKKPAkcl4RPTkocBkhwK9O7CgwBN+nndoE5/A6Hp7ihDinMAon1m7xMuawL2E9hLaz5jAh8UPmqXtlsBr+2JZfCSVwE3ArVmzc5PAD66to5/akcCbXiBAlliQwJjXhm/Y2Y3AG9+oJu0ti8CCByK3FKyIwJSEbTL5UobAGooGqkQhhMDYS2gvoRWCwKD9DdS4LoDAXablUmvWfMCnACSCg5N5wKhxzVgOknbA8GDY+V/Pc8ARNjuIzEhxwCmx2E1Q923AKGDE8Y3KacA2SCZC+gVmwHQ464Q9pGLAAAAAAABAX8D326Ly0+dZwA6jmG1HNVXAfPO6/KodUcAh18ZXnixLwAhT1w0JKUXALZdaMzcbQMAewAfAk9s3wGDUDFfEFjHAL8hVtoR6J8BXoSHvP5EewEZoL6G9hBLAWpLdgBZJBMA1oOYpxhbzv4OOns6T09u/nu9bVsUKuL/ZqQQRi35sv/OqBBGLfmw/7u9bVsUKuD+Djp7Ok9PbP1Cg5inGFvM/WpLdgBZJBEBXaC+hvYQSQFehIe8/kR5AP8hVtoR6J0Bq1AxXxBYxQB7AB8CT2zdANJdaMzcbQEAIU9cNCSlFQCzXxleeLEtAfPO6/KodUUAOo5htRzVVQADcovLT51lAAAAAAABAX0B5OOuEPaRiQDZIJkL6BWZAL2DE8Y3KaUApsdhNUPdtQBE2O4jMSHFA9WDY+V/Pc0Cocc1YDpJ2QKwAJIKDk3lAXablUmvWfECg/Q3UuC6AQN5LaC+hFYJAGooGqkQhhECYhG0y+VKGQIIHIrcUrIhAH9+oJu0ti0CY14Zv2NmNQJteIECWWJBAFK6to5/akUBNwK1Zs3OTQG77Yll8JJVAh8UPmqXtlkDAhPYS2s+YQCifWbvEy5pA6Hp7ihDinEAXfp53aBOfQGSHAr07sKBAk8l4RPTkoUCgONNNMyijQJ8Hs1ROeqRAm2m51JrbpUCekYdJbkynQL6yvi4ezahAAAAAAABeqkA=\",\"dtype\":\"float64\",\"order\":\"little\",\"shape\":[100]}},\"selected\":{\"id\":\"2300\"},\"selection_policy\":{\"id\":\"2299\"}},\"id\":\"2190\",\"type\":\"ColumnDataSource\"},{\"attributes\":{\"axis_label_text_font_size\":\"14pt\",\"coordinates\":null,\"formatter\":{\"id\":\"2294\"},\"group\":null,\"major_label_policy\":{\"id\":\"2295\"},\"ticker\":{\"id\":\"2183\"}},\"id\":\"2182\",\"type\":\"LinearAxis\"},{\"attributes\":{},\"id\":\"2302\",\"type\":\"Selection\"},{\"attributes\":{},\"id\":\"2170\",\"type\":\"DataRange1d\"},{\"attributes\":{},\"id\":\"2172\",\"type\":\"DataRange1d\"},{\"attributes\":{\"axis\":{\"id\":\"2178\"},\"coordinates\":null,\"group\":null,\"ticker\":null},\"id\":\"2181\",\"type\":\"Grid\"},{\"attributes\":{},\"id\":\"2294\",\"type\":\"BasicTickFormatter\"},{\"attributes\":{},\"id\":\"2176\",\"type\":\"LinearScale\"},{\"attributes\":{},\"id\":\"2179\",\"type\":\"BasicTicker\"},{\"attributes\":{\"coordinates\":null,\"group\":null,\"text\":\"Saddle point of function\",\"text_font_size\":\"12pt\"},\"id\":\"2168\",\"type\":\"Title\"},{\"attributes\":{\"coordinates\":null,\"data_source\":{\"id\":\"2190\"},\"glyph\":{\"id\":\"2191\"},\"group\":null,\"hover_glyph\":null,\"muted_glyph\":{\"id\":\"2193\"},\"nonselection_glyph\":{\"id\":\"2192\"},\"view\":{\"id\":\"2195\"}},\"id\":\"2194\",\"type\":\"GlyphRenderer\"},{\"attributes\":{},\"id\":\"2174\",\"type\":\"LinearScale\"},{\"attributes\":{\"fill_alpha\":{\"value\":0.1},\"fill_color\":{\"value\":\"orange\"},\"hatch_alpha\":{\"value\":0.1},\"hatch_color\":{\"value\":\"orange\"},\"line_alpha\":{\"value\":0.1},\"line_color\":{\"value\":\"orange\"},\"size\":{\"value\":10},\"x\":{\"value\":0},\"y\":{\"value\":0}},\"id\":\"2198\",\"type\":\"Circle\"},{\"attributes\":{},\"id\":\"2297\",\"type\":\"BasicTickFormatter\"},{\"attributes\":{\"axis_label_text_font_size\":\"14pt\",\"coordinates\":null,\"formatter\":{\"id\":\"2297\"},\"group\":null,\"major_label_policy\":{\"id\":\"2298\"},\"ticker\":{\"id\":\"2179\"}},\"id\":\"2178\",\"type\":\"LinearAxis\"},{\"attributes\":{},\"id\":\"2298\",\"type\":\"AllLabels\"},{\"attributes\":{},\"id\":\"2299\",\"type\":\"UnionRenderers\"},{\"attributes\":{\"axis\":{\"id\":\"2182\"},\"coordinates\":null,\"dimension\":1,\"group\":null,\"ticker\":null},\"id\":\"2185\",\"type\":\"Grid\"},{\"attributes\":{\"source\":{\"id\":\"2196\"}},\"id\":\"2201\",\"type\":\"CDSView\"},{\"attributes\":{\"tools\":[{\"id\":\"2164\"},{\"id\":\"2165\"},{\"id\":\"2166\"}]},\"id\":\"2186\",\"type\":\"Toolbar\"},{\"attributes\":{\"line_alpha\":0.5,\"line_color\":\"navy\",\"line_width\":3,\"x\":{\"field\":\"x\"},\"y\":{\"field\":\"y\"}},\"id\":\"2191\",\"type\":\"Line\"},{\"attributes\":{},\"id\":\"2295\",\"type\":\"AllLabels\"},{\"attributes\":{\"source\":{\"id\":\"2190\"}},\"id\":\"2195\",\"type\":\"CDSView\"}],\"root_ids\":[\"2167\"]},\"title\":\"Bokeh Application\",\"version\":\"2.4.1\"}};\n",
              "  const render_items = [{\"docid\":\"117c0923-93f8-4ae9-91c2-363abec9732f\",\"root_ids\":[\"2167\"],\"roots\":{\"2167\":\"91f10c0d-a560-4669-850f-2d2956a7fcc6\"}}];\n",
              "  root.Bokeh.embed.embed_items_notebook(docs_json, render_items);\n",
              "\n",
              "  }\n",
              "  if (root.Bokeh !== undefined) {\n",
              "    embed_document(root);\n",
              "  } else {\n",
              "    let attempts = 0;\n",
              "    const timer = setInterval(function(root) {\n",
              "      if (root.Bokeh !== undefined) {\n",
              "        clearInterval(timer);\n",
              "        embed_document(root);\n",
              "      } else {\n",
              "        attempts++;\n",
              "        if (attempts > 100) {\n",
              "          clearInterval(timer);\n",
              "          console.log(\"Bokeh: ERROR: Unable to run BokehJS code because BokehJS library is missing\");\n",
              "        }\n",
              "      }\n",
              "    }, 10, root)\n",
              "  }\n",
              "})(window);"
            ],
            "application/vnd.bokehjs_exec.v0+json": ""
          },
          "metadata": {
            "application/vnd.bokehjs_exec.v0+json": {
              "id": "2167"
            }
          },
          "output_type": "display_data"
        }
      ],
      "source": [
        "x = np.linspace(-15,15,100)\n",
        "y = x**3\n",
        "\n",
        "TOOLS = [WheelZoomTool(), ResetTool(), PanTool()]\n",
        "\n",
        "\n",
        "s1 = bp.figure(width=W, plot_height=H,\n",
        "               title='Saddle point of function',\n",
        "               tools=TOOLS)\n",
        "s1.line(x, y, color=\"navy\", alpha=0.5, line_width=3)\n",
        "s1.circle(0, 0, size =10, color=\"orange\")\n",
        "s1.title.text_font_size = '12pt'\n",
        "s1.yaxis.axis_label_text_font_size = \"14pt\"\n",
        "s1.xaxis.axis_label_text_font_size = \"14pt\"\n",
        "\n",
        "bp.show(s1)"
      ]
    },
    {
      "cell_type": "markdown",
      "id": "9cbf8561",
      "metadata": {
        "id": "9cbf8561"
      },
      "source": [
        "Hay dos problemas con las derivadas numéricas:\n",
        "+ Es aproximado.\n",
        "+ Es muy lento de evaluar (dos evaluaciones de funciones: $f(x + h) , f(x - h)$ ).\n",
        "\n",
        "¡Nuestro conocimiento de Cálculo podría ayudar!"
      ]
    },
    {
      "cell_type": "markdown",
      "id": "f9437499",
      "metadata": {
        "id": "f9437499"
      },
      "source": [
        "Sabemos que podemos obtener una expresión analítica de la derivada de algunas funciones.\n",
        "\n",
        "Por ejemplo, supongamos que tenemos una función cuadrática simple, $f(x)=x^2−6x+5$, y queremos encontrar el mínimo de esta función.\n",
        "\n",
        "#### Primer enfoque\n",
        "Podemos resolver esto analíticamente usando cálculo, encontrando la derivada  $f'(x)  =  2x-6$ e igualándola a cero:\n",
        "\n",
        "\\begin{equation}\n",
        "\\begin{split}\n",
        "2x-6  & = & 0 \\\\\n",
        "2x  & = & 6 \\\\\n",
        "x & = & 3 \\\\\n",
        "\\end{split}\n",
        "\\end{equation}"
      ]
    },
    {
      "cell_type": "code",
      "execution_count": null,
      "id": "288b5db6",
      "metadata": {
        "id": "288b5db6",
        "outputId": "700976dc-b197-4c66-e2c9-1d85410d3923"
      },
      "outputs": [
        {
          "data": {
            "text/html": [
              "\n",
              "\n",
              "\n",
              "\n",
              "\n",
              "\n",
              "  <div class=\"bk-root\" id=\"a2a4c125-5af0-4cb2-af2e-b2af20655078\" data-root-id=\"2361\"></div>\n"
            ]
          },
          "metadata": {},
          "output_type": "display_data"
        },
        {
          "data": {
            "application/javascript": [
              "(function(root) {\n",
              "  function embed_document(root) {\n",
              "    \n",
              "  const docs_json = {\"22640021-9a3f-4c14-a7a3-613f04d8a92f\":{\"defs\":[],\"roots\":{\"references\":[{\"attributes\":{\"below\":[{\"id\":\"2370\"}],\"center\":[{\"id\":\"2373\"},{\"id\":\"2377\"}],\"height\":250,\"left\":[{\"id\":\"2374\"}],\"renderers\":[{\"id\":\"2386\"},{\"id\":\"2392\"}],\"title\":{\"id\":\"2394\"},\"toolbar\":{\"id\":\"2378\"},\"width\":400,\"x_range\":{\"id\":\"2362\"},\"x_scale\":{\"id\":\"2366\"},\"y_range\":{\"id\":\"2364\"},\"y_scale\":{\"id\":\"2368\"}},\"id\":\"2361\",\"subtype\":\"Figure\",\"type\":\"Plot\"},{\"attributes\":{\"tools\":[{\"id\":\"2358\"},{\"id\":\"2359\"},{\"id\":\"2360\"}]},\"id\":\"2378\",\"type\":\"Toolbar\"},{\"attributes\":{},\"id\":\"2500\",\"type\":\"AllLabels\"},{\"attributes\":{\"fill_alpha\":{\"value\":0.1},\"fill_color\":{\"value\":\"orange\"},\"hatch_alpha\":{\"value\":0.1},\"hatch_color\":{\"value\":\"orange\"},\"line_alpha\":{\"value\":0.1},\"line_color\":{\"value\":\"orange\"},\"size\":{\"value\":10},\"x\":{\"value\":3},\"y\":{\"value\":-4}},\"id\":\"2390\",\"type\":\"Circle\"},{\"attributes\":{\"fill_color\":{\"value\":\"orange\"},\"hatch_color\":{\"value\":\"orange\"},\"line_color\":{\"value\":\"orange\"},\"size\":{\"value\":10},\"x\":{\"value\":3},\"y\":{\"value\":-4}},\"id\":\"2389\",\"type\":\"Circle\"},{\"attributes\":{},\"id\":\"2358\",\"type\":\"WheelZoomTool\"},{\"attributes\":{},\"id\":\"2359\",\"type\":\"ResetTool\"},{\"attributes\":{},\"id\":\"2360\",\"type\":\"PanTool\"},{\"attributes\":{\"line_alpha\":0.2,\"line_color\":\"navy\",\"line_width\":3,\"x\":{\"field\":\"x\"},\"y\":{\"field\":\"y\"}},\"id\":\"2385\",\"type\":\"Line\"},{\"attributes\":{},\"id\":\"2503\",\"type\":\"AllLabels\"},{\"attributes\":{\"line_alpha\":0.1,\"line_color\":\"navy\",\"line_width\":3,\"x\":{\"field\":\"x\"},\"y\":{\"field\":\"y\"}},\"id\":\"2384\",\"type\":\"Line\"},{\"attributes\":{\"data\":{},\"selected\":{\"id\":\"2507\"},\"selection_policy\":{\"id\":\"2506\"}},\"id\":\"2388\",\"type\":\"ColumnDataSource\"},{\"attributes\":{\"data\":{\"x\":{\"__ndarray__\":\"AAAAAAAAJMBlk0022WQjwMomm2yyySLALrrooosuIsCTTTbZZJMhwPjggw8++CDAXXTRRRddIMCEDz744IMfwE422WSTTR7AF1100UUXHcDhgw8++OAbwKqqqqqqqhrAdNFFF110GcA++OCDDz4YwAgffPDBBxfA0UUXXXTRFcCbbLLJJpsUwGWTTTbZZBPALrrooosuEsD44IMPPvgQwIQPPvjggw/AFl100UUXDcCqqqqqqqoKwD744IMPPgjA0EUXXXTRBcBkk0022WQDwPjggw8++ADAGF100UUX/b9A+OCDDz74v2CTTTbZZPO/EF100UUX7b9gk0022WTjv2CTTTbZZNO/AAAAAAAAAABgk0022WTTP2CTTTbZZOM/IF100UUX7T9ok0022WTzP0D44IMPPvg/GF100UUX/T/44IMPPvgAQGSTTTbZZANA1EUXXXTRBUBA+OCDDz4IQKyqqqqqqgpAGF100UUXDUCEDz744IMPQPjggw8++BBAMLrooosuEkBmk0022WQTQJxssskmmxRA0kUXXXTRFUAIH3zwwQcXQED44IMPPhhAdNFFF110GUCsqqqqqqoaQOCDDz744BtAGF100UUXHUBQNtlkk00eQIQPPvjggx9AXnTRRRddIED44IMPPvggQJRNNtlkkyFALrrooosuIkDKJptssskiQGaTTTbZZCNAAAAAAAAAJECcbLLJJpskQDbZZJNNNiVA0kUXXXTRJUBssskmm2wmQAgffPDBBydApIsuuuiiJ0A++OCDDz4oQNpkk0022ShAdNFFF110KUAQPvjggw8qQKyqqqqqqipARhdddNFFK0Digw8++OArQHzwwQcffCxAGF100UUXLUCyySabbLItQE422WSTTS5A6qKLLrroLkCEDz744IMvQBA++OCDDzBAXXTRRRddMECrqqqqqqowQPjggw8++DBARhdddNFFMUCUTTbZZJMxQOGDDz744DFAL7rooosuMkB88MEHH3wyQMomm2yyyTJAGF100UUXM0Blk0022WQzQLPJJptssjNAAAAAAAAANEA=\",\"dtype\":\"float64\",\"order\":\"little\",\"shape\":[100]},\"y\":{\"__ndarray__\":\"AAAAAACgZEAABC840aZjQPXwP/CCs2JA38YyKBXGYUDChQfgh95gQDVbfC+2+V9A1Hytnh1CXkBecKINRpZcQNY1W3wv9lpAOM3X6tlhWUCKNhhZRdlXQMZxHMdxXFZA8X7kNF/rVEAIXnCiDYZTQAwPwA99LFJA/JHTfK3eUECxzVXTPTlPQEYbjKyizExAsAxKhYl3SkD4oY9d8jlIQBjbXDXdE0ZAELixDEoFREDjOI7jOA5CQI9d8rmpLkBAKEy8HznNPEDnJKPKImw5QFlFmXQQOjZAfa2eHQI3M0BUXbPF92IwQLWprtnieytALygVJt6PJkAPNppw4QEiQKqme3LZoxtAAAAAAAAAFEBD8IITbTAKQDo8AD/0sfs/4Eu8HznN1z/wNVt8L7bpv7jNVdM9ufy/psLE+5HTBMDYYGQVZdIJwHjBiTYYWQ3AgOQ0X6tnD8DwyWWPHv4PwMhxHMdxHA/ACNxYBqXCDMC0CBtNuPAIwMj3YpurpgPAcFJh4v3I+b+AdBA6yajiv0CyijLpIOQ/0LND4MYyAEDA+F5sc9UMQKA9evgfeBVAoB0CN5ZBHUA8juM4juMiQASdZFRZhCdAQDsEbiyDLEByNOHCA/AwQOySz011zTNAJjnN1+rZNkAEJ9pgZBU6QKRc9ujhfz1A8+wQuLGMQEB1Ty579HBCQNFV0z25bERAAAAAAACARkAOTrTByKpIQO8/8IIT7UpAsNWzQ+BGTUBGD/8DL7hPQF726OF/IFFABTeWQalwUkCUSQehk8xTQBQuPAA/NFVAf+Q0X6unVkDYbPG92CZYQB/HcRzHsVlAUPO1enZIW0Bw8b3Y5upcQHfBiTYYmV5AubEMSoUpYECqa7b4XgxhQJQOQicZ9WFAdJqv1bPjYkBID/8DL9hjQBZtMLKK0mRA1rND4MbSZUCQ4ziO49hmQDz8D7zg5GdA5P3Iab72aECB6GOXfA5qQA+84EQbLGtAm3g/cppPbEAXHoAf+nhtQIysokw6qG5A+iOn+Vrdb0AtwkYTLoxwQNrmqumeLHFAAAAAAADQcUA=\",\"dtype\":\"float64\",\"order\":\"little\",\"shape\":[100]}},\"selected\":{\"id\":\"2505\"},\"selection_policy\":{\"id\":\"2504\"}},\"id\":\"2382\",\"type\":\"ColumnDataSource\"},{\"attributes\":{},\"id\":\"2362\",\"type\":\"DataRange1d\"},{\"attributes\":{},\"id\":\"2364\",\"type\":\"DataRange1d\"},{\"attributes\":{},\"id\":\"2502\",\"type\":\"BasicTickFormatter\"},{\"attributes\":{\"axis\":{\"id\":\"2370\"},\"coordinates\":null,\"group\":null,\"ticker\":null},\"id\":\"2373\",\"type\":\"Grid\"},{\"attributes\":{},\"id\":\"2375\",\"type\":\"BasicTicker\"},{\"attributes\":{},\"id\":\"2366\",\"type\":\"LinearScale\"},{\"attributes\":{\"axis_label_text_font_size\":\"14pt\",\"coordinates\":null,\"formatter\":{\"id\":\"2499\"},\"group\":null,\"major_label_policy\":{\"id\":\"2500\"},\"ticker\":{\"id\":\"2375\"}},\"id\":\"2374\",\"type\":\"LinearAxis\"},{\"attributes\":{\"fill_alpha\":{\"value\":0.2},\"fill_color\":{\"value\":\"orange\"},\"hatch_alpha\":{\"value\":0.2},\"hatch_color\":{\"value\":\"orange\"},\"line_alpha\":{\"value\":0.2},\"line_color\":{\"value\":\"orange\"},\"size\":{\"value\":10},\"x\":{\"value\":3},\"y\":{\"value\":-4}},\"id\":\"2391\",\"type\":\"Circle\"},{\"attributes\":{},\"id\":\"2505\",\"type\":\"Selection\"},{\"attributes\":{\"coordinates\":null,\"data_source\":{\"id\":\"2388\"},\"glyph\":{\"id\":\"2389\"},\"group\":null,\"hover_glyph\":null,\"muted_glyph\":{\"id\":\"2391\"},\"nonselection_glyph\":{\"id\":\"2390\"},\"view\":{\"id\":\"2393\"}},\"id\":\"2392\",\"type\":\"GlyphRenderer\"},{\"attributes\":{\"axis\":{\"id\":\"2374\"},\"coordinates\":null,\"dimension\":1,\"group\":null,\"ticker\":null},\"id\":\"2377\",\"type\":\"Grid\"},{\"attributes\":{\"source\":{\"id\":\"2388\"}},\"id\":\"2393\",\"type\":\"CDSView\"},{\"attributes\":{},\"id\":\"2504\",\"type\":\"UnionRenderers\"},{\"attributes\":{},\"id\":\"2499\",\"type\":\"BasicTickFormatter\"},{\"attributes\":{\"coordinates\":null,\"group\":null,\"text_font_size\":\"12pt\"},\"id\":\"2394\",\"type\":\"Title\"},{\"attributes\":{\"coordinates\":null,\"data_source\":{\"id\":\"2382\"},\"glyph\":{\"id\":\"2383\"},\"group\":null,\"hover_glyph\":null,\"muted_glyph\":{\"id\":\"2385\"},\"nonselection_glyph\":{\"id\":\"2384\"},\"view\":{\"id\":\"2387\"}},\"id\":\"2386\",\"type\":\"GlyphRenderer\"},{\"attributes\":{},\"id\":\"2507\",\"type\":\"Selection\"},{\"attributes\":{\"line_alpha\":0.5,\"line_color\":\"navy\",\"line_width\":3,\"x\":{\"field\":\"x\"},\"y\":{\"field\":\"y\"}},\"id\":\"2383\",\"type\":\"Line\"},{\"attributes\":{},\"id\":\"2506\",\"type\":\"UnionRenderers\"},{\"attributes\":{},\"id\":\"2371\",\"type\":\"BasicTicker\"},{\"attributes\":{\"axis_label_text_font_size\":\"14pt\",\"coordinates\":null,\"formatter\":{\"id\":\"2502\"},\"group\":null,\"major_label_policy\":{\"id\":\"2503\"},\"ticker\":{\"id\":\"2371\"}},\"id\":\"2370\",\"type\":\"LinearAxis\"},{\"attributes\":{\"source\":{\"id\":\"2382\"}},\"id\":\"2387\",\"type\":\"CDSView\"},{\"attributes\":{},\"id\":\"2368\",\"type\":\"LinearScale\"}],\"root_ids\":[\"2361\"]},\"title\":\"Bokeh Application\",\"version\":\"2.4.1\"}};\n",
              "  const render_items = [{\"docid\":\"22640021-9a3f-4c14-a7a3-613f04d8a92f\",\"root_ids\":[\"2361\"],\"roots\":{\"2361\":\"a2a4c125-5af0-4cb2-af2e-b2af20655078\"}}];\n",
              "  root.Bokeh.embed.embed_items_notebook(docs_json, render_items);\n",
              "\n",
              "  }\n",
              "  if (root.Bokeh !== undefined) {\n",
              "    embed_document(root);\n",
              "  } else {\n",
              "    let attempts = 0;\n",
              "    const timer = setInterval(function(root) {\n",
              "      if (root.Bokeh !== undefined) {\n",
              "        clearInterval(timer);\n",
              "        embed_document(root);\n",
              "      } else {\n",
              "        attempts++;\n",
              "        if (attempts > 100) {\n",
              "          clearInterval(timer);\n",
              "          console.log(\"Bokeh: ERROR: Unable to run BokehJS code because BokehJS library is missing\");\n",
              "        }\n",
              "      }\n",
              "    }, 10, root)\n",
              "  }\n",
              "})(window);"
            ],
            "application/vnd.bokehjs_exec.v0+json": ""
          },
          "metadata": {
            "application/vnd.bokehjs_exec.v0+json": {
              "id": "2361"
            }
          },
          "output_type": "display_data"
        }
      ],
      "source": [
        "x = np.linspace(-10,20,100)\n",
        "y = x**2 - 6*x + 5\n",
        "\n",
        "TOOLS = [WheelZoomTool(), ResetTool(), PanTool()]\n",
        "\n",
        "\n",
        "s1 = bp.figure(width=W, plot_height=H,\n",
        "               tools=TOOLS)\n",
        "s1.line(x, y, color=\"navy\", alpha=0.5, line_width=3)\n",
        "s1.circle(3, 3**2 - 6*3 + 5, size =10, color=\"orange\")\n",
        "s1.title.text_font_size = '12pt'\n",
        "s1.yaxis.axis_label_text_font_size = \"14pt\"\n",
        "s1.xaxis.axis_label_text_font_size = \"14pt\"\n",
        "\n",
        "bp.show(s1)"
      ]
    },
    {
      "cell_type": "markdown",
      "id": "516dfdff",
      "metadata": {
        "id": "516dfdff"
      },
      "source": [
        "#### Segundo enfoque\n",
        "\n",
        "Para encontrar el mínimo local usando **descenso de gradiente**: comienza en un punto aleatorio y avanza en la dirección del **descenso** más pronunciado en relación con la derivada:\n",
        "\n",
        "+ Comience desde un valor aleatorio de $x$.\n",
        "+ Calcular la derivada $f'(x)$ analíticamente.\n",
        "+ Da un pequeño paso en la dirección **opuesta** de la derivada.\n",
        "\n",
        "En este ejemplo, supongamos que empezamos en $x=15$. La derivada en este punto es $2*15−6=24$.\n",
        "\n",
        "Debido a que estamos usando el descenso de gradiente, necesitamos restar el gradiente de nuestra coordenada $x$: $f(x - f'(x))$. Sin embargo, observe que $15−24$ nos da $−9$, superando claramente el objetivo de $3$."
      ]
    },
    {
      "cell_type": "code",
      "execution_count": null,
      "id": "95fe113e",
      "metadata": {
        "id": "95fe113e",
        "outputId": "74727ac4-1a75-42f9-c484-9b8e6ac019f2"
      },
      "outputs": [
        {
          "data": {
            "text/html": [
              "\n",
              "\n",
              "\n",
              "\n",
              "\n",
              "\n",
              "  <div class=\"bk-root\" id=\"e9077773-689a-4c51-8f97-3e01826f352e\" data-root-id=\"2571\"></div>\n"
            ]
          },
          "metadata": {},
          "output_type": "display_data"
        },
        {
          "data": {
            "application/javascript": [
              "(function(root) {\n",
              "  function embed_document(root) {\n",
              "    \n",
              "  const docs_json = {\"03336e54-5cf8-4205-8a82-2ec88fa13d47\":{\"defs\":[],\"roots\":{\"references\":[{\"attributes\":{\"below\":[{\"id\":\"2580\"}],\"center\":[{\"id\":\"2583\"},{\"id\":\"2587\"}],\"height\":250,\"left\":[{\"id\":\"2584\"}],\"renderers\":[{\"id\":\"2596\"},{\"id\":\"2602\"},{\"id\":\"2608\"}],\"title\":{\"id\":\"2610\"},\"toolbar\":{\"id\":\"2588\"},\"width\":400,\"x_range\":{\"id\":\"2572\"},\"x_scale\":{\"id\":\"2576\"},\"y_range\":{\"id\":\"2574\"},\"y_scale\":{\"id\":\"2578\"}},\"id\":\"2571\",\"subtype\":\"Figure\",\"type\":\"Plot\"},{\"attributes\":{},\"id\":\"2572\",\"type\":\"DataRange1d\"},{\"attributes\":{},\"id\":\"2727\",\"type\":\"BasicTickFormatter\"},{\"attributes\":{\"data\":{\"x\":{\"__ndarray__\":\"AAAAAAAAJMBlk0022WQjwMomm2yyySLALrrooosuIsCTTTbZZJMhwPjggw8++CDAXXTRRRddIMCEDz744IMfwE422WSTTR7AF1100UUXHcDhgw8++OAbwKqqqqqqqhrAdNFFF110GcA++OCDDz4YwAgffPDBBxfA0UUXXXTRFcCbbLLJJpsUwGWTTTbZZBPALrrooosuEsD44IMPPvgQwIQPPvjggw/AFl100UUXDcCqqqqqqqoKwD744IMPPgjA0EUXXXTRBcBkk0022WQDwPjggw8++ADAGF100UUX/b9A+OCDDz74v2CTTTbZZPO/EF100UUX7b9gk0022WTjv2CTTTbZZNO/AAAAAAAAAABgk0022WTTP2CTTTbZZOM/IF100UUX7T9ok0022WTzP0D44IMPPvg/GF100UUX/T/44IMPPvgAQGSTTTbZZANA1EUXXXTRBUBA+OCDDz4IQKyqqqqqqgpAGF100UUXDUCEDz744IMPQPjggw8++BBAMLrooosuEkBmk0022WQTQJxssskmmxRA0kUXXXTRFUAIH3zwwQcXQED44IMPPhhAdNFFF110GUCsqqqqqqoaQOCDDz744BtAGF100UUXHUBQNtlkk00eQIQPPvjggx9AXnTRRRddIED44IMPPvggQJRNNtlkkyFALrrooosuIkDKJptssskiQGaTTTbZZCNAAAAAAAAAJECcbLLJJpskQDbZZJNNNiVA0kUXXXTRJUBssskmm2wmQAgffPDBBydApIsuuuiiJ0A++OCDDz4oQNpkk0022ShAdNFFF110KUAQPvjggw8qQKyqqqqqqipARhdddNFFK0Digw8++OArQHzwwQcffCxAGF100UUXLUCyySabbLItQE422WSTTS5A6qKLLrroLkCEDz744IMvQBA++OCDDzBAXXTRRRddMECrqqqqqqowQPjggw8++DBARhdddNFFMUCUTTbZZJMxQOGDDz744DFAL7rooosuMkB88MEHH3wyQMomm2yyyTJAGF100UUXM0Blk0022WQzQLPJJptssjNAAAAAAAAANEA=\",\"dtype\":\"float64\",\"order\":\"little\",\"shape\":[100]},\"y\":{\"__ndarray__\":\"AAAAAACgZEAABC840aZjQPXwP/CCs2JA38YyKBXGYUDChQfgh95gQDVbfC+2+V9A1Hytnh1CXkBecKINRpZcQNY1W3wv9lpAOM3X6tlhWUCKNhhZRdlXQMZxHMdxXFZA8X7kNF/rVEAIXnCiDYZTQAwPwA99LFJA/JHTfK3eUECxzVXTPTlPQEYbjKyizExAsAxKhYl3SkD4oY9d8jlIQBjbXDXdE0ZAELixDEoFREDjOI7jOA5CQI9d8rmpLkBAKEy8HznNPEDnJKPKImw5QFlFmXQQOjZAfa2eHQI3M0BUXbPF92IwQLWprtnieytALygVJt6PJkAPNppw4QEiQKqme3LZoxtAAAAAAAAAFEBD8IITbTAKQDo8AD/0sfs/4Eu8HznN1z/wNVt8L7bpv7jNVdM9ufy/psLE+5HTBMDYYGQVZdIJwHjBiTYYWQ3AgOQ0X6tnD8DwyWWPHv4PwMhxHMdxHA/ACNxYBqXCDMC0CBtNuPAIwMj3YpurpgPAcFJh4v3I+b+AdBA6yajiv0CyijLpIOQ/0LND4MYyAEDA+F5sc9UMQKA9evgfeBVAoB0CN5ZBHUA8juM4juMiQASdZFRZhCdAQDsEbiyDLEByNOHCA/AwQOySz011zTNAJjnN1+rZNkAEJ9pgZBU6QKRc9ujhfz1A8+wQuLGMQEB1Ty579HBCQNFV0z25bERAAAAAAACARkAOTrTByKpIQO8/8IIT7UpAsNWzQ+BGTUBGD/8DL7hPQF726OF/IFFABTeWQalwUkCUSQehk8xTQBQuPAA/NFVAf+Q0X6unVkDYbPG92CZYQB/HcRzHsVlAUPO1enZIW0Bw8b3Y5upcQHfBiTYYmV5AubEMSoUpYECqa7b4XgxhQJQOQicZ9WFAdJqv1bPjYkBID/8DL9hjQBZtMLKK0mRA1rND4MbSZUCQ4ziO49hmQDz8D7zg5GdA5P3Iab72aECB6GOXfA5qQA+84EQbLGtAm3g/cppPbEAXHoAf+nhtQIysokw6qG5A+iOn+Vrdb0AtwkYTLoxwQNrmqumeLHFAAAAAAADQcUA=\",\"dtype\":\"float64\",\"order\":\"little\",\"shape\":[100]}},\"selected\":{\"id\":\"2733\"},\"selection_policy\":{\"id\":\"2732\"}},\"id\":\"2592\",\"type\":\"ColumnDataSource\"},{\"attributes\":{\"data\":{},\"selected\":{\"id\":\"2735\"},\"selection_policy\":{\"id\":\"2734\"}},\"id\":\"2598\",\"type\":\"ColumnDataSource\"},{\"attributes\":{},\"id\":\"2569\",\"type\":\"ResetTool\"},{\"attributes\":{},\"id\":\"2736\",\"type\":\"UnionRenderers\"},{\"attributes\":{\"line_alpha\":0.5,\"line_color\":\"navy\",\"line_width\":3,\"x\":{\"field\":\"x\"},\"y\":{\"field\":\"y\"}},\"id\":\"2593\",\"type\":\"Line\"},{\"attributes\":{},\"id\":\"2728\",\"type\":\"AllLabels\"},{\"attributes\":{\"source\":{\"id\":\"2592\"}},\"id\":\"2597\",\"type\":\"CDSView\"},{\"attributes\":{\"fill_color\":{\"value\":\"orange\"},\"hatch_color\":{\"value\":\"orange\"},\"line_color\":{\"value\":\"orange\"},\"size\":{\"value\":10},\"x\":{\"value\":15},\"y\":{\"value\":140}},\"id\":\"2599\",\"type\":\"Circle\"},{\"attributes\":{},\"id\":\"2570\",\"type\":\"PanTool\"},{\"attributes\":{},\"id\":\"2568\",\"type\":\"WheelZoomTool\"},{\"attributes\":{},\"id\":\"2574\",\"type\":\"DataRange1d\"},{\"attributes\":{\"fill_color\":{\"value\":\"red\"},\"hatch_color\":{\"value\":\"red\"},\"line_color\":{\"value\":\"red\"},\"size\":{\"value\":10},\"x\":{\"value\":-9},\"y\":{\"value\":140}},\"id\":\"2605\",\"type\":\"Circle\"},{\"attributes\":{},\"id\":\"2730\",\"type\":\"BasicTickFormatter\"},{\"attributes\":{\"axis_label_text_font_size\":\"14pt\",\"coordinates\":null,\"formatter\":{\"id\":\"2727\"},\"group\":null,\"major_label_policy\":{\"id\":\"2728\"},\"ticker\":{\"id\":\"2585\"}},\"id\":\"2584\",\"type\":\"LinearAxis\"},{\"attributes\":{\"source\":{\"id\":\"2598\"}},\"id\":\"2603\",\"type\":\"CDSView\"},{\"attributes\":{},\"id\":\"2731\",\"type\":\"AllLabels\"},{\"attributes\":{},\"id\":\"2576\",\"type\":\"LinearScale\"},{\"attributes\":{},\"id\":\"2735\",\"type\":\"Selection\"},{\"attributes\":{},\"id\":\"2578\",\"type\":\"LinearScale\"},{\"attributes\":{\"axis_label_text_font_size\":\"14pt\",\"coordinates\":null,\"formatter\":{\"id\":\"2730\"},\"group\":null,\"major_label_policy\":{\"id\":\"2731\"},\"ticker\":{\"id\":\"2581\"}},\"id\":\"2580\",\"type\":\"LinearAxis\"},{\"attributes\":{\"line_alpha\":0.1,\"line_color\":\"navy\",\"line_width\":3,\"x\":{\"field\":\"x\"},\"y\":{\"field\":\"y\"}},\"id\":\"2594\",\"type\":\"Line\"},{\"attributes\":{},\"id\":\"2581\",\"type\":\"BasicTicker\"},{\"attributes\":{\"fill_alpha\":{\"value\":0.2},\"fill_color\":{\"value\":\"orange\"},\"hatch_alpha\":{\"value\":0.2},\"hatch_color\":{\"value\":\"orange\"},\"line_alpha\":{\"value\":0.2},\"line_color\":{\"value\":\"orange\"},\"size\":{\"value\":10},\"x\":{\"value\":15},\"y\":{\"value\":140}},\"id\":\"2601\",\"type\":\"Circle\"},{\"attributes\":{\"axis\":{\"id\":\"2580\"},\"coordinates\":null,\"group\":null,\"ticker\":null},\"id\":\"2583\",\"type\":\"Grid\"},{\"attributes\":{\"fill_alpha\":{\"value\":0.1},\"fill_color\":{\"value\":\"red\"},\"hatch_alpha\":{\"value\":0.1},\"hatch_color\":{\"value\":\"red\"},\"line_alpha\":{\"value\":0.1},\"line_color\":{\"value\":\"red\"},\"size\":{\"value\":10},\"x\":{\"value\":-9},\"y\":{\"value\":140}},\"id\":\"2606\",\"type\":\"Circle\"},{\"attributes\":{\"axis\":{\"id\":\"2584\"},\"coordinates\":null,\"dimension\":1,\"group\":null,\"ticker\":null},\"id\":\"2587\",\"type\":\"Grid\"},{\"attributes\":{\"coordinates\":null,\"data_source\":{\"id\":\"2598\"},\"glyph\":{\"id\":\"2599\"},\"group\":null,\"hover_glyph\":null,\"muted_glyph\":{\"id\":\"2601\"},\"nonselection_glyph\":{\"id\":\"2600\"},\"view\":{\"id\":\"2603\"}},\"id\":\"2602\",\"type\":\"GlyphRenderer\"},{\"attributes\":{},\"id\":\"2732\",\"type\":\"UnionRenderers\"},{\"attributes\":{},\"id\":\"2585\",\"type\":\"BasicTicker\"},{\"attributes\":{\"coordinates\":null,\"data_source\":{\"id\":\"2592\"},\"glyph\":{\"id\":\"2593\"},\"group\":null,\"hover_glyph\":null,\"muted_glyph\":{\"id\":\"2595\"},\"nonselection_glyph\":{\"id\":\"2594\"},\"view\":{\"id\":\"2597\"}},\"id\":\"2596\",\"type\":\"GlyphRenderer\"},{\"attributes\":{\"fill_alpha\":{\"value\":0.1},\"fill_color\":{\"value\":\"orange\"},\"hatch_alpha\":{\"value\":0.1},\"hatch_color\":{\"value\":\"orange\"},\"line_alpha\":{\"value\":0.1},\"line_color\":{\"value\":\"orange\"},\"size\":{\"value\":10},\"x\":{\"value\":15},\"y\":{\"value\":140}},\"id\":\"2600\",\"type\":\"Circle\"},{\"attributes\":{\"coordinates\":null,\"data_source\":{\"id\":\"2604\"},\"glyph\":{\"id\":\"2605\"},\"group\":null,\"hover_glyph\":null,\"muted_glyph\":{\"id\":\"2607\"},\"nonselection_glyph\":{\"id\":\"2606\"},\"view\":{\"id\":\"2609\"}},\"id\":\"2608\",\"type\":\"GlyphRenderer\"},{\"attributes\":{\"source\":{\"id\":\"2604\"}},\"id\":\"2609\",\"type\":\"CDSView\"},{\"attributes\":{},\"id\":\"2733\",\"type\":\"Selection\"},{\"attributes\":{\"fill_alpha\":{\"value\":0.2},\"fill_color\":{\"value\":\"red\"},\"hatch_alpha\":{\"value\":0.2},\"hatch_color\":{\"value\":\"red\"},\"line_alpha\":{\"value\":0.2},\"line_color\":{\"value\":\"red\"},\"size\":{\"value\":10},\"x\":{\"value\":-9},\"y\":{\"value\":140}},\"id\":\"2607\",\"type\":\"Circle\"},{\"attributes\":{\"tools\":[{\"id\":\"2568\"},{\"id\":\"2569\"},{\"id\":\"2570\"}]},\"id\":\"2588\",\"type\":\"Toolbar\"},{\"attributes\":{},\"id\":\"2734\",\"type\":\"UnionRenderers\"},{\"attributes\":{\"coordinates\":null,\"group\":null,\"text_font_size\":\"12pt\"},\"id\":\"2610\",\"type\":\"Title\"},{\"attributes\":{},\"id\":\"2737\",\"type\":\"Selection\"},{\"attributes\":{\"line_alpha\":0.2,\"line_color\":\"navy\",\"line_width\":3,\"x\":{\"field\":\"x\"},\"y\":{\"field\":\"y\"}},\"id\":\"2595\",\"type\":\"Line\"},{\"attributes\":{\"data\":{},\"selected\":{\"id\":\"2737\"},\"selection_policy\":{\"id\":\"2736\"}},\"id\":\"2604\",\"type\":\"ColumnDataSource\"}],\"root_ids\":[\"2571\"]},\"title\":\"Bokeh Application\",\"version\":\"2.4.1\"}};\n",
              "  const render_items = [{\"docid\":\"03336e54-5cf8-4205-8a82-2ec88fa13d47\",\"root_ids\":[\"2571\"],\"roots\":{\"2571\":\"e9077773-689a-4c51-8f97-3e01826f352e\"}}];\n",
              "  root.Bokeh.embed.embed_items_notebook(docs_json, render_items);\n",
              "\n",
              "  }\n",
              "  if (root.Bokeh !== undefined) {\n",
              "    embed_document(root);\n",
              "  } else {\n",
              "    let attempts = 0;\n",
              "    const timer = setInterval(function(root) {\n",
              "      if (root.Bokeh !== undefined) {\n",
              "        clearInterval(timer);\n",
              "        embed_document(root);\n",
              "      } else {\n",
              "        attempts++;\n",
              "        if (attempts > 100) {\n",
              "          clearInterval(timer);\n",
              "          console.log(\"Bokeh: ERROR: Unable to run BokehJS code because BokehJS library is missing\");\n",
              "        }\n",
              "      }\n",
              "    }, 10, root)\n",
              "  }\n",
              "})(window);"
            ],
            "application/vnd.bokehjs_exec.v0+json": ""
          },
          "metadata": {
            "application/vnd.bokehjs_exec.v0+json": {
              "id": "2571"
            }
          },
          "output_type": "display_data"
        }
      ],
      "source": [
        "x = np.linspace(-10,20,100)\n",
        "y = x**2 - 6*x + 5\n",
        "start = 15\n",
        "\n",
        "TOOLS = [WheelZoomTool(), ResetTool(), PanTool()]\n",
        "\n",
        "\n",
        "s1 = bp.figure(width=W, plot_height=H,\n",
        "               tools=TOOLS)\n",
        "s1.line(x, y, color=\"navy\", alpha=0.5, line_width=3)\n",
        "s1.circle(start, start**2 - 6*start + 5, size =10, color=\"orange\")\n",
        "\n",
        "d = 2 * start - 6\n",
        "end = start - d\n",
        "\n",
        "s1.circle(end, end**2 - 6*end + 5, size =10, color=\"red\")\n",
        "s1.title.text_font_size = '12pt'\n",
        "s1.yaxis.axis_label_text_font_size = \"14pt\"\n",
        "s1.xaxis.axis_label_text_font_size = \"14pt\"\n",
        "\n",
        "bp.show(s1)"
      ]
    },
    {
      "cell_type": "markdown",
      "id": "b1023396",
      "metadata": {
        "id": "b1023396"
      },
      "source": [
        "Para arreglar esto, multiplicamos el gradiente por un tamaño de paso. Este tamaño de paso (a menudo llamado **alfa** o **velocidad de aprendizaje**) debe elegirse con cuidado, ya que un valor demasiado pequeño dará como resultado un tiempo de cálculo prolongado, mientras que un valor demasiado grande no le dará el resultado correcto. (sobreimpulsando) o incluso dejar de converger.\n",
        "\n",
        "En este ejemplo, estableceremos el tamaño del paso en 0,01, lo que significa que restaremos $24 × 0,01 $ de $15 $, que es $14,76 $.\n",
        "\n",
        "Este es ahora nuestro nuevo mínimo local temporal: continuamos con este método hasta que no veamos un cambio después de restar el tamaño del paso derivado o hasta que hayamos completado un número preestablecido de iteraciones."
      ]
    },
    {
      "cell_type": "code",
      "execution_count": null,
      "id": "d07c1451",
      "metadata": {
        "id": "d07c1451",
        "outputId": "59ae42ea-5375-4452-f062-784883169c2c"
      },
      "outputs": [
        {
          "name": "stdout",
          "output_type": "stream",
          "text": [
            "Local minimum occurs at 3.0\n"
          ]
        }
      ],
      "source": [
        "old_min = 0\n",
        "temp_min = 15 #initial random point\n",
        "step_size = 0.01\n",
        "precision = 0.0001\n",
        "\n",
        "def f_derivative(x):\n",
        "    return 2*x -6\n",
        "\n",
        "mins = []\n",
        "cost = []\n",
        "\n",
        "while abs(temp_min - old_min) > precision:\n",
        "    old_min = temp_min\n",
        "    gradient = f_derivative(old_min)\n",
        "    move = gradient * step_size\n",
        "    temp_min = old_min - move\n",
        "    cost.append((3-temp_min)**2) #squared distance from temp_min to the true local minimum\n",
        "    mins.append(temp_min)\n",
        "\n",
        "# rounding the result to 2 digits because of the step size\n",
        "print(\"Local minimum occurs at\", round(temp_min,2))"
      ]
    },
    {
      "cell_type": "markdown",
      "id": "4496f813",
      "metadata": {
        "id": "4496f813"
      },
      "source": [
        "Una característica importante del descenso de gradiente es que **debería haber una mejora visible con el tiempo**: En este ejemplo, simplemente trazamos la distancia al cuadrado desde los mínimos locales calculados por el descenso de gradiente y el verdadero mínimo local, ``costo`` , contra la iteración durante la cual se calculó. Como podemos ver, la distancia se hace más pequeña con el tiempo, pero apenas cambia en iteraciones posteriores."
      ]
    },
    {
      "cell_type": "code",
      "execution_count": null,
      "id": "e0e11263",
      "metadata": {
        "id": "e0e11263",
        "outputId": "3d0fcb48-033d-4f38-b07a-2394a98e6ac9"
      },
      "outputs": [
        {
          "data": {
            "text/html": [
              "\n",
              "\n",
              "\n",
              "\n",
              "\n",
              "\n",
              "  <div class=\"bk-root\" id=\"1a4a2d13-0bac-4a08-a8c9-79e633bc7331\" data-root-id=\"2811\"></div>\n"
            ]
          },
          "metadata": {},
          "output_type": "display_data"
        },
        {
          "data": {
            "application/javascript": [
              "(function(root) {\n",
              "  function embed_document(root) {\n",
              "    \n",
              "  const docs_json = {\"aab5f135-bfce-4f29-a10a-8635276fd98b\":{\"defs\":[],\"roots\":{\"references\":[{\"attributes\":{\"below\":[{\"id\":\"2822\"}],\"center\":[{\"id\":\"2825\"},{\"id\":\"2829\"}],\"height\":250,\"left\":[{\"id\":\"2826\"}],\"renderers\":[{\"id\":\"2838\"}],\"title\":{\"id\":\"2812\"},\"toolbar\":{\"id\":\"2830\"},\"width\":400,\"x_range\":{\"id\":\"2814\"},\"x_scale\":{\"id\":\"2818\"},\"y_range\":{\"id\":\"2816\"},\"y_scale\":{\"id\":\"2820\"}},\"id\":\"2811\",\"subtype\":\"Figure\",\"type\":\"Plot\"},{\"attributes\":{\"tools\":[{\"id\":\"2568\"},{\"id\":\"2569\"},{\"id\":\"2570\"}]},\"id\":\"2830\",\"type\":\"Toolbar\"},{\"attributes\":{},\"id\":\"2827\",\"type\":\"BasicTicker\"},{\"attributes\":{},\"id\":\"2974\",\"type\":\"UnionRenderers\"},{\"attributes\":{},\"id\":\"2823\",\"type\":\"BasicTicker\"},{\"attributes\":{\"axis\":{\"id\":\"2826\"},\"coordinates\":null,\"dimension\":1,\"group\":null,\"ticker\":null},\"id\":\"2829\",\"type\":\"Grid\"},{\"attributes\":{},\"id\":\"2970\",\"type\":\"AllLabels\"},{\"attributes\":{},\"id\":\"2569\",\"type\":\"ResetTool\"},{\"attributes\":{\"axis_label\":\"Iteration\",\"axis_label_text_font_size\":\"14pt\",\"coordinates\":null,\"formatter\":{\"id\":\"2972\"},\"group\":null,\"major_label_policy\":{\"id\":\"2973\"},\"ticker\":{\"id\":\"2823\"}},\"id\":\"2822\",\"type\":\"LinearAxis\"},{\"attributes\":{},\"id\":\"2570\",\"type\":\"PanTool\"},{\"attributes\":{},\"id\":\"2568\",\"type\":\"WheelZoomTool\"},{\"attributes\":{\"line_alpha\":0.1,\"line_color\":\"navy\",\"line_width\":3,\"x\":{\"field\":\"x\"},\"y\":{\"field\":\"y\"}},\"id\":\"2836\",\"type\":\"Line\"},{\"attributes\":{\"source\":{\"id\":\"2834\"}},\"id\":\"2839\",\"type\":\"CDSView\"},{\"attributes\":{\"data\":{\"x\":[0,1,2,3,4,5,6,7,8,9,10,11,12,13,14,15,16,17,18,19,20,21,22,23,24,25,26,27,28,29,30,31,32,33,34,35,36,37,38,39,40,41,42,43,44,45,46,47,48,49,50,51,52,53,54,55,56,57,58,59,60,61,62,63,64,65,66,67,68,69,70,71,72,73,74,75,76,77,78,79,80,81,82,83,84,85,86,87,88,89,90,91,92,93,94,95,96,97,98,99,100,101,102,103,104,105,106,107,108,109,110,111,112,113,114,115,116,117,118,119,120,121,122,123,124,125,126,127,128,129,130,131,132,133,134,135,136,137,138,139,140,141,142,143,144,145,146,147,148,149,150,151,152,153,154,155,156,157,158,159,160,161,162,163,164,165,166,167,168,169,170,171,172,173,174,175,176,177,178,179,180,181,182,183,184,185,186,187,188,189,190,191,192,193,194,195,196,197,198,199,200,201,202,203,204,205,206,207,208,209,210,211,212,213,214,215,216,217,218,219,220,221,222,223,224,225,226,227,228,229,230,231,232,233,234,235,236,237,238,239,240,241,242,243,244,245,246,247,248,249,250,251,252,253,254,255,256,257,258,259,260,261,262,263,264,265,266,267,268,269,270,271,272,273,274,275,276,277,278,279,280,281,282,283,284,285,286,287,288,289,290,291,292,293,294,295,296,297,298,299,300,301,302,303,304,305,306,307,308,309,310,311,312,313,314,315,316,317,318,319,320,321,322,323,324,325,326,327,328,329,330,331,332,333,334,335,336,337,338,339,340,341,342,343,344,345,346,347,348,349,350,351,352,353,354,355,356,357,358,359,360,361,362,363,364,365,366,367,368,369,370,371,372,373,374,375,376,377,378,379,380,381,382,383,384,385,386],\"y\":[138.2976,132.82101504,127.56130284441596,122.50987525177709,117.65848419180672,112.99920821781116,108.52443957238584,104.22687176531937,100.09948764341271,96.13554793273357,92.32858023459731,88.67236845730724,85.16094266639789,81.78856933680854,78.54974199107092,75.43917220822452,72.45178098877884,69.5826904616232,66.82721591934292,64.18085816893694,61.63929618544705,59.19838005650335,56.85412420626583,54.602700887697694,52.44043393254486,50.363792748816095,48.36938655596298,46.45395884834685,44.61438207795232,42.847652547665405,41.150885506777854,39.52131044070946,37.95626654725737,36.45319839198597,35.009651735663326,33.623269526931054,32.29178805366458,31.013033246739468,29.784917130168587,28.605434411813913,27.47265920910609,26.384741904425493,25.339906125010252,24.33644584245985,23.37272258709844,22.447162772649346,21.558255126852433,20.70454822382908,19.884648114165447,19.097216048844494,18.340966293310256,17.614664028095167,16.9171233325826,16.24720524861233,15.603815920767282,14.9859048103049,14.392462979816825,13.82252144581608,13.275149596561764,12.749453672537921,12.244575307105423,11.759690124944047,11.294006395996263,10.846763742714812,10.417231898503305,10.004709515322572,9.6085230185158,9.228025506982577,8.862595696906066,8.511636907308587,8.17457608577917,7.850862872782312,7.5399687030201346,7.241385942380537,6.9546270590622665,6.679223827523399,6.414726563953471,6.160703392020914,5.916739537696885,5.682436652004089,5.457412160584729,5.241298639025574,5.033743212920159,4.834406981688522,4.642964465213656,4.459103072391195,4.282522590724503,4.112934696131812,3.950062482164994,3.793640007871259,3.6434118635595563,3.4991327537625976,3.3605670967135968,3.227488639683738,3.0996800895522636,2.976932758005995,2.859046220788956,2.7458279904457137,2.6370932020240643,2.532664311223913,2.4323708044994463,2.3360489206412667,2.243541383383873,2.154697144601873,2.06937113767564,1.9874240406236843,1.908722048614986,1.8331366554898325,1.7605444439324343,1.6908268839527094,1.6238701393481811,1.5595648818299928,1.4978061125095254,1.438492990454149,1.3815286680321655,1.326820132778092,1.2742780555200803,1.223816644521486,1.175353505398435,1.1288095065846564,1.084108650123904,1.041177947578997,0.9999473008548686,0.9603493877410162,0.922319551986472,0.8857956977278079,0.8507181880977869,0.8170297478491146,0.7846753698342896,0.753602225188852,0.7237595770713737,0.6950986978193471,0.6675727893857012,0.6411369069260276,0.6157478854117571,0.5913642691494515,0.5679462440911331,0.5454555728251245,0.5238555321412492,0.5031108530684557,0.4831876632869446,0.46405343182078185,0.4456769159206791,0.4280281100502202,0.41107819689223146,0.394799500295299,0.37916544008360503,0.36415048865629435,0.34973012930550496,0.3358808161850071,0.3225799358640808,0.3098057704038634,0.2975374618958705,0.2857549784047942,0.2744390812599644,0.26357129364206994,0.25313387041384383,0.24310976914545543,0.23348262228729552,0.22423671044471846,0.21535693671110764,0.20682880201734793,0.19863838145746088,0.19077230155174527,0.1832177184102961,0.17596229676124825,0.16899418980950295,0.16230201989304646,0.15587485990528174,0.1497022154530327,0.14377400772109267,0.13808055701533753,0.13261256695753015,0.12736110930601183,0.12231760937749361,0.11747383204614495,0.11282186829711771,0.10835412231255186,0.10406329906897471,0.09994239242584338,0.09598467368578008,0.09218368060782316,0.08853320685575337,0.08502729186426546,0.08166021110644062,0.07842646674662562,0.07532077866345935,0.07233807582838633,0.06947348802558212,0.0667223378997691,0.06408013331893819,0.061542560039508136,0.05910547466194355,0.05676489786533057,0.05451700790986344,0.05235813439663294,0.05028475227452621,0.048293476084454924,0.04638105443151051,0.044544364676022644,0.04278040783485211,0.04108630368459204,0.03945928605868228,0.03789669833075845,0.036395989076860424,0.0349547079094167,0.03357050147620379,0.03224110961774605,0.030964361676883365,0.029738172954478826,0.02856054130548147,0.02742954386978439,0.026343333932540878,0.0253001379088123,0.02429825244762332,0.023336041650697432,0.022411934401329856,0.021524421799037186,0.020672054695795323,0.019853441329841872,0.01906724505318016,0.018312182149074176,0.017587019735970853,0.01689057375442637,0.016221707033751052,0.015579327435214537,0.014962386068779998,0.014369875580456286,0.013800828507470213,0.013254315698574414,0.012729444796910875,0.012225358782953163,0.011741234575148205,0.011276281685972315,0.010829740931207825,0.01040088319033197,0.009989008215994818,0.009593443490641394,0.009213543128412004,0.008848686820526926,0.008498278822434067,0.008161746981065702,0.007838541800615469,0.007528135545311106,0.007230021377716757,0.006943712531159139,0.006668741514925241,0.006404659350934206,0.0061510348406372045,0.005907453860947992,0.005673518688054472,0.005448847348007531,0.00523307299302644,0.005025843302502585,0.004826819907723486,0.004635677839377625,0.004452104996938265,0.004275801639059537,0.004106479894152784,0.003943863290344308,0.003787686304046658,0.0036376939264064255,0.0034936412469207152,0.0033552930535426352,0.003222423448622334,0.003094815480056905,0.0029722607870466392,0.0028545592598796113,0.002741518713188359,0.002632954572146122,0.0025286895710891553,0.0024285534640740044,0.0023323827468966617,0.002240020390119555,0.002151315582670809,0.0020661234855970634,0.0019843049955674315,0.001905726517742946,0.0018302597476403276,0.0017577814616337682,0.0016881733157530566,0.0016213216524492298,0.001557117315012248,0.001495455469337754,0.001436235432751991,0.0013793605096150089,0.001324737833434243,0.0012722782152302628,0.0012218959979071505,0.0011735089163900305,0.0011270379633009746,0.001082407259954253,0.0010395439324600727,0.0009983779927346542,0.0009588422242223499,0.0009208720721431362,0.0008844055380862775,0.0008493830787780708,0.0008157475088584526,0.0007834439075076593,0.0007524195287703575,0.0007226237154310561,0.0006940078162999835,0.000666525106774511,0.0006401307125462489,0.0006147815363294157,0.0005904361874907601,0.0005670549144661352,0.0005445995398532812,0.0005230333980750885,0.0005023212755113062,0.0004824293530010503,0.00046332515062221446,0.000444977474657583,0.00042735636666114014,0.00041043305454135324,0.00039417990558152126,0.00037857038132049477,0.0003635789942202052,0.0003491812660490897,0.0003353536879135461,0.00032207368187216423,0.00030931956407002903,0.00029707050933285744,0.0002853065171632715,0.0002740083790836024,0.00026315764727188797,0.00025273660443992377,0.00024272823490410555,0.00023311619680189646,0.0002238847954085443,0.0002150189575103688,0.00020650420679296254,0.00019832664020396447,0.00019047290525189017,0.00018293017820391125,0.00017568614314703447,0.00016872897187840776,0.0001620473045920176,0.00015563023133017482,0.0001494672741694999,0.0001435483701123858,0.00013786385465593405,0.0001324044460115615,0.0001271612299495051,0.00012212564524350587,0.00011728946969186438,0.0001126448066920656,0.00010818407234705704,0.00010389998308211502,9.978554375206416e-05,9.583403621948137e-05,9.203900838518701e-05,8.839426365313227e-05,8.489385081246905e-05,8.153205432029848e-05,7.830338496921765e-05,7.520257092443309e-05,7.222454911582282e-05,6.936445697083476e-05,6.66176244747868e-05,6.397956654558382e-05,6.14459757103794e-05,5.901271507225083e-05,5.667581155538863e-05,5.4431449417794715e-05,5.2275964020849276e-05,5.02058358456244e-05,4.821768474614076e-05,4.630826443019503e-05,4.447445715875907e-05,4.271326865527488e-05,4.102182321652452e-05,3.9397359017149034e-05,3.7837223600069935e-05,3.633886954550877e-05,3.4899850311507565e-05,3.351781623917063e-05,3.219051071609837e-05,3.091576649174107e-05,2.969150213866764e-05,2.8515718653974123e-05,2.7386496195279074e-05,2.6301990945944016e-05,2.5260432104483652e-05,2.4260118993147937e-05,2.3299418281017392e-05]},\"selected\":{\"id\":\"2975\"},\"selection_policy\":{\"id\":\"2974\"}},\"id\":\"2834\",\"type\":\"ColumnDataSource\"},{\"attributes\":{},\"id\":\"2814\",\"type\":\"DataRange1d\"},{\"attributes\":{},\"id\":\"2975\",\"type\":\"Selection\"},{\"attributes\":{\"line_alpha\":0.5,\"line_color\":\"navy\",\"line_width\":3,\"x\":{\"field\":\"x\"},\"y\":{\"field\":\"y\"}},\"id\":\"2835\",\"type\":\"Line\"},{\"attributes\":{},\"id\":\"2972\",\"type\":\"BasicTickFormatter\"},{\"attributes\":{},\"id\":\"2969\",\"type\":\"BasicTickFormatter\"},{\"attributes\":{},\"id\":\"2820\",\"type\":\"LinearScale\"},{\"attributes\":{},\"id\":\"2973\",\"type\":\"AllLabels\"},{\"attributes\":{},\"id\":\"2816\",\"type\":\"DataRange1d\"},{\"attributes\":{\"coordinates\":null,\"data_source\":{\"id\":\"2834\"},\"glyph\":{\"id\":\"2835\"},\"group\":null,\"hover_glyph\":null,\"muted_glyph\":{\"id\":\"2837\"},\"nonselection_glyph\":{\"id\":\"2836\"},\"view\":{\"id\":\"2839\"}},\"id\":\"2838\",\"type\":\"GlyphRenderer\"},{\"attributes\":{\"coordinates\":null,\"group\":null,\"text\":\"Squared distance to true local minimum\",\"text_font_size\":\"16pt\"},\"id\":\"2812\",\"type\":\"Title\"},{\"attributes\":{},\"id\":\"2818\",\"type\":\"LinearScale\"},{\"attributes\":{\"axis\":{\"id\":\"2822\"},\"coordinates\":null,\"group\":null,\"ticker\":null},\"id\":\"2825\",\"type\":\"Grid\"},{\"attributes\":{\"line_alpha\":0.2,\"line_color\":\"navy\",\"line_width\":3,\"x\":{\"field\":\"x\"},\"y\":{\"field\":\"y\"}},\"id\":\"2837\",\"type\":\"Line\"},{\"attributes\":{\"axis_label\":\"Distance\",\"axis_label_text_font_size\":\"14pt\",\"coordinates\":null,\"formatter\":{\"id\":\"2969\"},\"group\":null,\"major_label_policy\":{\"id\":\"2970\"},\"ticker\":{\"id\":\"2827\"}},\"id\":\"2826\",\"type\":\"LinearAxis\"}],\"root_ids\":[\"2811\"]},\"title\":\"Bokeh Application\",\"version\":\"2.4.1\"}};\n",
              "  const render_items = [{\"docid\":\"aab5f135-bfce-4f29-a10a-8635276fd98b\",\"root_ids\":[\"2811\"],\"roots\":{\"2811\":\"1a4a2d13-0bac-4a08-a8c9-79e633bc7331\"}}];\n",
              "  root.Bokeh.embed.embed_items_notebook(docs_json, render_items);\n",
              "\n",
              "  }\n",
              "  if (root.Bokeh !== undefined) {\n",
              "    embed_document(root);\n",
              "  } else {\n",
              "    let attempts = 0;\n",
              "    const timer = setInterval(function(root) {\n",
              "      if (root.Bokeh !== undefined) {\n",
              "        clearInterval(timer);\n",
              "        embed_document(root);\n",
              "      } else {\n",
              "        attempts++;\n",
              "        if (attempts > 100) {\n",
              "          clearInterval(timer);\n",
              "          console.log(\"Bokeh: ERROR: Unable to run BokehJS code because BokehJS library is missing\");\n",
              "        }\n",
              "      }\n",
              "    }, 10, root)\n",
              "  }\n",
              "})(window);"
            ],
            "application/vnd.bokehjs_exec.v0+json": ""
          },
          "metadata": {
            "application/vnd.bokehjs_exec.v0+json": {
              "id": "2811"
            }
          },
          "output_type": "display_data"
        }
      ],
      "source": [
        "OOLS = [WheelZoomTool(), ResetTool(), PanTool()]\n",
        "\n",
        "x = list(range(len(cost)))\n",
        "y = cost\n",
        "#x, y = (zip(*enumerate(cost)))\n",
        "s1 = bp.figure(width=W,\n",
        "               height=H,\n",
        "               title='Squared distance to true local minimum',\n",
        "#                title_text_font_size='14pt',\n",
        "               tools=TOOLS,\n",
        "               x_axis_label = 'Iteration',\n",
        "               y_axis_label = 'Distance'\n",
        ")\n",
        "s1.line(x, y, color=\"navy\", alpha=0.5, line_width=3)\n",
        "s1.title.text_font_size = '16pt'\n",
        "s1.yaxis.axis_label_text_font_size = \"14pt\"\n",
        "s1.xaxis.axis_label_text_font_size = \"14pt\"\n",
        "bp.show(s1)"
      ]
    },
    {
      "cell_type": "markdown",
      "id": "d4bf6772",
      "metadata": {
        "id": "d4bf6772"
      },
      "source": [
        "## De derivadas a gradiente: minimización de funciones $n$-dimensionales.\n",
        "\n",
        "Consideremos una función $n$-dimensional $f: \\Re^n \\rightarrow \\Re$. Por ejemplo:\n",
        "\n",
        "$$f(\\mathbf{x}) = \\sum_{n} x_n^2$$\n",
        "\n",
        "Nuestro objetivo es encontrar el argumento $\\mathbf{x}$ que minimice esta función.\n",
        "\n",
        "El **gradiente** de $f$ es el vector cuyas componentes son las derivadas parciales de $n$ de $f$. Por lo tanto, es una función con valores vectoriales.\n",
        "\n",
        "El gradiente apunta en la dirección de la mayor tasa de **aumento** de la función.\n",
        "\n",
        "$$\\nabla {f} = (\\frac{\\partial f}{\\partial x_1}, \\dots, \\frac{\\partial f}{\\partial x_n})$$"
      ]
    },
    {
      "cell_type": "code",
      "execution_count": null,
      "id": "de87f0a5",
      "metadata": {
        "id": "de87f0a5",
        "outputId": "0a7dcf20-b587-48df-d662-a3b270561e60"
      },
      "outputs": [
        {
          "name": "stdout",
          "output_type": "stream",
          "text": [
            "3.0 [2.0000000001, 2.0000000001, 2.0000000001]\n"
          ]
        }
      ],
      "source": [
        "def f(x):\n",
        "    return sum(x_i**2 for x_i in x)\n",
        "\n",
        "def fin_dif_partial_centered(x, f, i, h=1e-6):\n",
        "    w1 = [x_j + (h if j==i else 0) for j, x_j in enumerate(x)]\n",
        "    w2 = [x_j - (h if j==i else 0) for j, x_j in enumerate(x)]\n",
        "    return (f(w1) - f(w2))/(2*h)\n",
        "\n",
        "def gradient_centered(x, f, h=1e-6):\n",
        "    return[round(fin_dif_partial_centered(x,f,i,h), 10) for i,_ in enumerate(x)]\n",
        "\n",
        "x = [1.0,1.0,1.0]\n",
        "\n",
        "print(f(x), gradient_centered(x,f))"
      ]
    },
    {
      "cell_type": "markdown",
      "id": "b52bced4",
      "metadata": {
        "id": "b52bced4"
      },
      "source": [
        "La función que hemos evaluado, $f({\\mathbf x}) = x_1^2+x_2^2+x_3^2$, es $3$ en $(1,1,1)$ y el vector gradiente en este punto es $(2,2,2)$.\n",
        "\n",
        "Luego, podemos seguir estos pasos para maximizar (o minimizar) la función:\n",
        "\n",
        "+ Empezar desde un vector $\\mathbf{x}$ aleatorio.\n",
        "+ Calcular el vector gradiente.\n",
        "+ Da un pequeño paso en la dirección opuesta al vector de gradiente.\n",
        "\n",
        "> Es importante tener en cuenta que este cálculo de gradiente es muy costoso: si $\\mathbf{x}$ tiene una dimensión $n$, tenemos que evaluar $f$ en $2*n$ puntos."
      ]
    },
    {
      "cell_type": "markdown",
      "id": "8520d98f",
      "metadata": {
        "id": "8520d98f"
      },
      "source": [
        "### Cómo usar el gradiente.\n",
        "\n",
        "$f(x) = \\sum_i x_i^2$, toma su valor mínimo cuando todos los $x$ son 0.\n",
        "\n",
        "Vamos a comprobarlo por $ n = 3 $:"
      ]
    },
    {
      "cell_type": "markdown",
      "id": "67949f92",
      "metadata": {
        "id": "67949f92"
      },
      "source": [
        "Comencemos eligiendo un vector aleatorio y luego dando un paso en la dirección opuesta al vector de gradiente. Nos detendremos cuando la diferencia entre la nueva solución y la solución anterior sea menor que un valor de tolerancia."
      ]
    },
    {
      "cell_type": "code",
      "execution_count": null,
      "id": "2c26d5af",
      "metadata": {
        "id": "2c26d5af",
        "outputId": "eaa38821-0952-40ce-a416-ae2c413d896e"
      },
      "outputs": [
        {
          "data": {
            "text/plain": [
              "[7, 6, -2]"
            ]
          },
          "execution_count": 46,
          "metadata": {},
          "output_type": "execute_result"
        }
      ],
      "source": [
        "# choosing a random vector\n",
        "\n",
        "import random\n",
        "import numpy as np\n",
        "\n",
        "x = [random.randint(-10,10) for i in range(3)]\n",
        "x"
      ]
    },
    {
      "cell_type": "code",
      "execution_count": null,
      "id": "58a74de8",
      "metadata": {
        "id": "58a74de8",
        "outputId": "e2d1fb88-4050-47e6-ce37-9efec837fd96"
      },
      "outputs": [
        {
          "name": "stdout",
          "output_type": "stream",
          "text": [
            "[0.0, -0.0, 0.0]\n"
          ]
        }
      ],
      "source": [
        "def step(x,grad,alpha):\n",
        "    return [x_i - alpha * grad_i for x_i, grad_i in zip(x,grad)]\n",
        "\n",
        "def euc_dist(v1,v2):\n",
        "    import numpy as np\n",
        "    import math\n",
        "    v = np.array(v1)-np.array(v2)\n",
        "    return math.sqrt(sum(v_i ** 2 for v_i in v))\n",
        "\n",
        "tol = 1e-15\n",
        "alpha = 0.01\n",
        "while True:\n",
        "    grad = gradient_centered(x,f)\n",
        "    next_x = step(x,grad,alpha)\n",
        "    if euc_dist(next_x,x) < tol: #calculate Euclidean distance in n dimensions\n",
        "        break\n",
        "    x = next_x\n",
        "print([round(i,10) for i in x])"
      ]
    },
    {
      "cell_type": "markdown",
      "id": "f6b976ce",
      "metadata": {
        "id": "f6b976ce"
      },
      "source": [
        "### alfa\n",
        "\n",
        "El tamaño del paso, **alfa**, es un concepto delicado: si es demasiado pequeño, convergeremos lentamente a la solución, si es demasiado grande, podemos divergir de la solución.\n",
        "\n",
        "Hay varias políticas a seguir al seleccionar el tamaño del paso:\n",
        "\n",
        "+ Pasos de tamaño constante. En este caso, el paso de tamaño determina la precisión de la solución.\n",
        "+ Disminución del tamaño de los pasos con iteraciones.\n",
        "+ En cada iteración, seleccione el paso óptimo.\n",
        "\n",
        "La última política es buena, pero demasiado costosa. En este caso, consideraremos un conjunto fijo de valores (en cada iteración):"
      ]
    },
    {
      "cell_type": "code",
      "execution_count": null,
      "id": "8be99ac3",
      "metadata": {
        "id": "8be99ac3"
      },
      "outputs": [],
      "source": [
        "step_size = [100, 10, 1, 0.1, 0.01, 0.001, 0.0001, 0.00001]"
      ]
    },
    {
      "cell_type": "markdown",
      "id": "d4b99735",
      "metadata": {
        "id": "d4b99735"
      },
      "source": [
        "## Aprender de los datos\n",
        "\n",
        "En general, tenemos:\n",
        "\n",
        "+ Un conjunto de datos $(\\mathbf{x},y)$.\n",
        "+ Una función de destino $f_\\mathbf{w}$, que queremos minimizar, que representa la discrepancia entre nuestros datos y el modelo que queremos ajustar. El modelo está representado por un conjunto de parámetros $\\mathbf{w}$.\n",
        "+ El gradiente de la función objetivo, $g_f$.\n",
        "\n",
        "\n",
        "En el caso más común, $f_\\mathbf{w}$ representa los errores de un modelo de representación de datos $M$. Ajustar el modelo es encontrar los parámetros óptimos $\\mathbf{w}$ que minimicen la siguiente expresión:\n",
        "\n",
        "$$ f_\\mathbf{w} = \\sum_{i} (y_i - M(\\mathbf{x}_i,\\mathbf{w}))^2 $$\n",
        "\n",
        "Por ejemplo, $(\\mathbf{x},y)$ puede representar:\n",
        "\n",
        "+ $\\mathbf{x}$: el comportamiento de un jugador de \"Candy Crush\"; $y$: pagos mensuales.\n",
        "+ $\\mathbf{x}$: datos del sensor sobre el motor de su automóvil; $y$: probabilidad de error del motor.\n",
        "+ $\\mathbf{x}$: datos financieros de un cliente bancario; $y$: valoración del cliente.\n",
        "\n",
        "> Si $y$ es un valor real, se llama problema de *regresión*.\n",
        "\n",
        "> Si $y$ es binario/categórico, se llama un problema de *clasificación*.\n",
        "\n",
        "Supongamos que $M(x_i,\\mathbf{w}) = w * x_i$.\n",
        "\n",
        "### Descenso de gradiente por lotes (batch gradient descent)\n",
        "\n",
        "Podemos implementar **descenso de gradiente** de la siguiente manera (*descenso de gradiente por lotes*):"
      ]
    },
    {
      "cell_type": "code",
      "execution_count": null,
      "id": "1e79f18d",
      "metadata": {
        "id": "1e79f18d",
        "outputId": "61397b69-804f-46c8-99cd-d8a9ca005e72"
      },
      "outputs": [
        {
          "name": "stdout",
          "output_type": "stream",
          "text": [
            "First w: 0.9668136156271442 First Val: 304.2301198832346 \n",
            "\n",
            "1 w: 0.9668 Val:304.2301 Gradient:-588.9162 Alpha: 0.001\n",
            "2 w: 1.5557 Val:56.2521 Gradient:-253.2340 Alpha: 0.001\n",
            "3 w: 1.8090 Val:10.4010 Gradient:-108.8906 Alpha: 0.001\n",
            "4 w: 1.9179 Val:1.9231 Gradient:-46.8230 Alpha: 0.001\n",
            "5 w: 1.9647 Val:0.3556 Gradient:-20.1339 Alpha: 0.001\n",
            "6 w: 1.9848 Val:0.0657 Gradient:-8.6576 Alpha: 0.001\n",
            "7 w: 1.9935 Val:0.0122 Gradient:-3.7228 Alpha: 0.001\n",
            "8 w: 1.9972 Val:0.0022 Gradient:-1.6008 Alpha: 0.001\n",
            "9 w: 1.9988 Val:0.0004 Gradient:-0.6883 Alpha: 0.001\n",
            "10 w: 1.9995 Val:0.0001 Gradient:-0.2960 Alpha: 0.001\n",
            "11 w: 1.9998 Val:0.0000 Gradient:-0.1273 Alpha: 0.001\n",
            "12 w: 1.9999 Val:0.0000 Gradient:-0.0547 Alpha: 0.001\n",
            "13 w: 2.0000 Val:0.0000 Gradient:-0.0235 Alpha: 0.001\n"
          ]
        },
        {
          "data": {
            "text/plain": [
              "1.9999587142535356"
            ]
          },
          "execution_count": 29,
          "metadata": {},
          "output_type": "execute_result"
        }
      ],
      "source": [
        "#random.seed(10)\n",
        "\n",
        "# find the value of w that minimizes the target (objective) function f_w: Sum((y-wx)**2)\n",
        "\n",
        "x = range(10)\n",
        "y = [2*i for i in x] # y = 2x\n",
        "\n",
        "# f_target = Sum ((y - wx)**2)\n",
        "def target_f(x,y,w):\n",
        "    import numpy as np\n",
        "    return np.sum((np.array(y) - np.array(x) * w)**2.0)\n",
        "\n",
        "# gradient_f_target = Sum(2wx**2 - 2xy)\n",
        "def gradient_f(x,y,w):\n",
        "    import numpy as np\n",
        "    return np.sum(2*w*(np.array(x)**2) - 2*np.array(x)*np.array(y))\n",
        "\n",
        "def step(w,grad,alpha):\n",
        "    return w - alpha * grad\n",
        "\n",
        "def min_batch(target_f, gradient_f, x, y, toler = 1e-6):\n",
        "    import random\n",
        "    alphas = [100, 10, 1, 0.1, 0.001, 0.00001]\n",
        "    w = random.random()\n",
        "    val = target_f(x,y,w)\n",
        "    print(\"First w:\", w, \"First Val:\", val, \"\\n\")\n",
        "    i = 0\n",
        "    while True:\n",
        "        i += 1\n",
        "        gradient = gradient_f(x,y,w)\n",
        "        next_ws = [step(w, gradient, alpha) for alpha in alphas] #calculate the step for the different alphas\n",
        "        next_vals = [target_f(x,y,w) for w in next_ws] #obtain next values per step\n",
        "        min_val = min(next_vals) # select the minimum value\n",
        "        next_w = next_ws[next_vals.index(min_val)] #save the step corresponding to the minimum value\n",
        "        next_val = next_vals[next_vals.index(min_val)] #save the minimum function value\n",
        "        alpha_val = alphas[next_vals.index(min_val)]   #save the alpha leading to minimum function value\n",
        "        print(i, \"w: {:4.4f}\".format(w), \"Val:{:4.4f}\".format(val), \"Gradient:{:4.4f}\".format(gradient), \"Alpha:\",alpha_val)\n",
        "        if (abs(val - next_val) < toler) or (i>200):\n",
        "            return w\n",
        "        else:\n",
        "            w, val = next_w, next_val\n",
        "\n",
        "min_batch(target_f, gradient_f, x, y)"
      ]
    },
    {
      "cell_type": "markdown",
      "id": "4935d746",
      "metadata": {
        "id": "4935d746"
      },
      "source": [
        "### Ejercicio:\n",
        "+ 1. Considere un conjunto de 100 puntos de datos y explique el comportamiento del algoritmo.\n",
        "+ 2. ¿Cómo podríamos solucionar este comportamiento?"
      ]
    },
    {
      "cell_type": "markdown",
      "id": "c7762677",
      "metadata": {
        "id": "c7762677"
      },
      "source": [
        "### Descenso de gradiente estocástico\n",
        "\n",
        "La última función evalúa la función objetivo $f_\\mathbf{w}$ con respecto a cada parámetro/característica en cada paso.\n",
        "\n",
        "Si el conjunto de datos es grande, esta estrategia es demasiado costosa. En este caso usaremos una estrategia llamada **SGD** (*Descenso de gradiente estocástico*). Consiste en reemplazar el gradiente real (calculado a partir de todo el conjunto de datos) por una estimación del mismo (calculado a partir de un subconjunto de datos seleccionado aleatoriamente).\n",
        "\n",
        "Luego, calculamos la estimación del gradiente (y nos movemos hacia el mínimo) usando solo **una muestra de datos** (o una pequeña muestra de datos). Encontramos el mínimo iterando esta estimación de gradiente sobre el conjunto de datos.\n",
        "\n",
        "Una iteración completa sobre el conjunto de datos se denomina **época**. Durante una época, los datos deben usarse en un orden aleatorio.\n",
        "\n",
        "Si aplicamos este método tenemos algunas garantías para encontrar el mínimo."
      ]
    },
    {
      "cell_type": "code",
      "execution_count": null,
      "id": "8f18ee39",
      "metadata": {
        "id": "8f18ee39",
        "outputId": "5d882584-9fc7-4347-87ed-0a8e980508e0"
      },
      "outputs": [
        {
          "name": "stdout",
          "output_type": "stream",
          "text": [
            "0 0\n",
            "4 8\n",
            "9 18\n",
            "5 10\n",
            "8 16\n",
            "3 6\n",
            "1 2\n",
            "6 12\n",
            "7 14\n",
            "2 4\n"
          ]
        }
      ],
      "source": [
        "import numpy as np\n",
        "x = range(10)\n",
        "y = [2*i for i in x]\n",
        "data = list(zip(x,y))\n",
        "\n",
        "def in_random_order(data):\n",
        "    import random\n",
        "    indexes = [i for i,_ in enumerate(data)]\n",
        "    random.shuffle(indexes)\n",
        "    for i in indexes:\n",
        "        yield data[i]\n",
        "\n",
        "for (x_i,y_i) in in_random_order(data):\n",
        "    print(x_i,y_i)"
      ]
    },
    {
      "cell_type": "code",
      "execution_count": null,
      "id": "1f6cd382",
      "metadata": {
        "id": "1f6cd382"
      },
      "outputs": [],
      "source": [
        "def gradient_f_SGD(x,y,w):\n",
        "    import numpy as np\n",
        "    return 2*w*(np.array(x)**2) - 2*np.array(x)*np.array(y) #Note there is no sum of elements\n",
        "\n",
        "def SGD(target_f, gradient_f, x, y, alpha_0=0.001):\n",
        "    import numpy as np\n",
        "    import random\n",
        "    data = list(zip(x,y))\n",
        "    w = random.random()\n",
        "    alpha = alpha_0\n",
        "    min_w, min_val = float('inf'), float('inf')\n",
        "    iteration_no_increase = 0\n",
        "    alpha_vect = []\n",
        "    min_w_vect = []\n",
        "    while iteration_no_increase < 100:\n",
        "        val = sum(target_f(x_i, y_i, w) for x_i,y_i in data) # full iteration of the global error with updated w\n",
        "        if val < min_val:\n",
        "            # the global error gets lower with updated w\n",
        "            min_w, min_val = w, val\n",
        "            iteration_no_increase = 0\n",
        "            alpha = alpha_0\n",
        "        else:\n",
        "            # the global error is not improving -> decrease alpha temporarily (until out of possible local minima)\n",
        "            iteration_no_increase += 1\n",
        "            alpha *= 0.9 #decrease alpha\n",
        "        for x_i, y_i in in_random_order(data):\n",
        "            gradient_i = gradient_f(x_i, y_i, w)  #gradient evaluation at each point\n",
        "            w = np.array(w) - (alpha *  np.array(gradient_i)) # update w\n",
        "        min_w_vect.append(w)\n",
        "        alpha_vect.append(alpha)\n",
        "    return min_w_vect, alpha_vect"
      ]
    },
    {
      "cell_type": "code",
      "execution_count": null,
      "id": "34141281",
      "metadata": {
        "id": "34141281",
        "outputId": "4fcd1304-451c-46e0-d910-f5287438ffa7"
      },
      "outputs": [
        {
          "name": "stdout",
          "output_type": "stream",
          "text": [
            "w=  [1.9999999999999996, 1.9999999999999996, 1.9999999999999996, 1.9999999999999996, 1.9999999999999996]\n"
          ]
        },
        {
          "data": {
            "image/png": "[encoded data removed]",
            "text/plain": [
              "<Figure size 432x288 with 1 Axes>"
            ]
          },
          "metadata": {
            "needs_background": "light"
          },
          "output_type": "display_data"
        }
      ],
      "source": [
        "min_w_vect, alpha_vect = SGD(target_f, gradient_f_SGD, x, y, 0.001)\n",
        "print(\"w= \",min_w_vect[-5:])\n",
        "plt.plot(min_w_vect)\n",
        "plt.show()"
      ]
    },
    {
      "cell_type": "code",
      "execution_count": null,
      "id": "40c46653",
      "metadata": {
        "id": "40c46653",
        "outputId": "402c9bae-3a17-41b4-d085-1ff000fa749e"
      },
      "outputs": [
        {
          "data": {
            "image/png": "[encoded data removed]",
            "text/plain": [
              "<Figure size 432x288 with 1 Axes>"
            ]
          },
          "metadata": {
            "needs_background": "light"
          },
          "output_type": "display_data"
        }
      ],
      "source": [
        "plt.plot(alpha_vect)\n",
        "plt.show()"
      ]
    },
    {
      "cell_type": "markdown",
      "id": "1f020ea1",
      "metadata": {
        "id": "1f020ea1"
      },
      "source": [
        "## Mini-batch Gradient Descent"
      ]
    },
    {
      "cell_type": "markdown",
      "id": "04196cf5",
      "metadata": {
        "id": "04196cf5"
      },
      "source": [
        "En el código, el descenso general del gradiente por lotes se parece a esto:\n",
        "\n",
        "```python\n",
        "nb_epochs = 100\n",
        "for i in range(nb_epochs):\n",
        "    grad = evaluate_gradient(target_f, data, w)\n",
        "    w = w - learning_rate * grad\n",
        "```\n",
        "\n",
        "Para un número predefinido de épocas, primero calculamos el vector de gradiente de la función de destino para todo el conjunto de datos w.r.t. nuestro vector de parámetros.\n",
        "\n",
        "El descenso de gradiente estocástico (SGD), por el contrario, realiza una actualización de parámetros para cada ejemplo y etiqueta de entrenamiento:\n",
        "\n",
        "```python\n",
        "nb_epochs = 100\n",
        "for i in range(nb_epochs):\n",
        "    np.random.shuffle(data)\n",
        "    for example in data:\n",
        "        grad = evaluate_gradient(target_f, example, w)\n",
        "        w = w - learning_rate * grad\n",
        "```\n",
        "El descenso de gradiente de minilotes finalmente toma lo mejor de ambos mundos y realiza una actualización para cada minilote de $n$ ejemplos de entrenamiento:\n",
        "\n",
        "```python\n",
        "nb_epochs = 100\n",
        "for i in range(nb_epochs):\n",
        "  np.random.shuffle(data)\n",
        "  for batch in get_batches(data, batch_size=50):\n",
        "    grad = evaluate_gradient(target_f, batch, w)\n",
        "    w = w - learning_rate * grad\n",
        "```\n",
        "\n",
        "Minibatch SGD tiene la ventaja de que funciona con una estimación del gradiente ligeramente menos ruidosa. Sin embargo, a medida que aumenta el tamaño del minilote, el número de actualizaciones realizadas por cálculo realizado disminuye (eventualmente se vuelve muy ineficiente, como el descenso del gradiente del lote).\n",
        "\n",
        "Existe una compensación óptima (en términos de eficiencia computacional) que puede variar según la distribución de datos y las particularidades de la clase de función considerada, así como la forma en que se implementan los cálculos."
      ]
    },
    {
      "cell_type": "markdown",
      "id": "741f9a05",
      "metadata": {
        "id": "741f9a05"
      },
      "source": [
        "## Descenso de gradiente y regresión lineal\n",
        "\n",
        "El modelo de regresión lineal asume una relación lineal entre los datos:\n",
        "\n",
        "$$ y_i = w_1 x_i + w_0 $$\n",
        "\n",
        "Generemos un conjunto de datos más realista (con ruido), donde $w_1 = 2$ y $w_0 = 0$:"
      ]
    },
    {
      "cell_type": "code",
      "execution_count": null,
      "id": "bbe49a7a",
      "metadata": {
        "id": "bbe49a7a",
        "outputId": "ff2eca0f-046a-44f9-b349-9d7d9dcefa98"
      },
      "outputs": [
        {
          "data": {
            "image/png": "[encoded data removed]",
            "text/plain": [
              "<Figure size 720x432 with 1 Axes>"
            ]
          },
          "metadata": {
            "needs_background": "light"
          },
          "output_type": "display_data"
        }
      ],
      "source": [
        "import numpy as np\n",
        "x = np.random.uniform(0,1,20)\n",
        "\n",
        "def f(x): return x*2\n",
        "\n",
        "noise_variance =0.2\n",
        "noise = np.random.randn(x.shape[0])*noise_variance\n",
        "y = f(x) + noise\n",
        "\n",
        "plt.plot(x, y, 'o', label='y')\n",
        "plt.plot([0, 1], [f(0), f(1)], 'b-', label='f(x)')\n",
        "plt.xlabel('$x$', fontsize=15)\n",
        "plt.ylabel('$y$', fontsize=15)\n",
        "plt.ylim([0,2])\n",
        "plt.title('inputs (x) vs targets (y)')\n",
        "plt.grid()\n",
        "plt.legend(loc=2)\n",
        "plt.gcf().set_size_inches((10,6))\n",
        "plt.show()"
      ]
    },
    {
      "cell_type": "code",
      "execution_count": null,
      "id": "229c2c8d",
      "metadata": {
        "id": "229c2c8d",
        "outputId": "efee2906-0289-4bcb-b32c-9fb84723baff"
      },
      "outputs": [
        {
          "data": {
            "image/png": "[encoded data removed]",
            "text/plain": [
              "<Figure size 720x432 with 1 Axes>"
            ]
          },
          "metadata": {
            "needs_background": "light"
          },
          "output_type": "display_data"
        }
      ],
      "source": [
        "# Our cost function\n",
        "def cost(y, t): return ((t - y)**2).sum()\n",
        "\n",
        "ws = np.linspace(0, 4, num=100)\n",
        "cost_ws = np.zeros(ws.shape)\n",
        "for ind,w in enumerate(ws):\n",
        "    cost_ws[ind]=cost(x*w, y)\n",
        "\n",
        "# Ploting the cost function for different values of w\n",
        "plt.plot(ws, cost_ws, 'r-')\n",
        "plt.xlabel('$w$', fontsize=15)\n",
        "plt.ylabel('Cost', fontsize=15)\n",
        "plt.title('Cost vs. $w$')\n",
        "plt.grid()\n",
        "plt.gcf().set_size_inches((10,6))\n",
        "plt.show()"
      ]
    },
    {
      "cell_type": "markdown",
      "id": "16dc8f61",
      "metadata": {
        "id": "16dc8f61"
      },
      "source": [
        "### Reto\n",
        "\n",
        "Implemente el código del descenso por gradiente para la regresión lineal."
      ]
    },
    {
      "cell_type": "code",
      "execution_count": null,
      "id": "d91bc3f6",
      "metadata": {
        "id": "d91bc3f6"
      },
      "outputs": [],
      "source": []
    }
  ],
  "metadata": {
    "kernelspec": {
      "display_name": "Python 3 (ipykernel)",
      "language": "python",
      "name": "python3"
    },
    "language_info": {
      "codemirror_mode": {
        "name": "ipython",
        "version": 3
      },
      "file_extension": ".py",
      "mimetype": "text/x-python",
      "name": "python",
      "nbconvert_exporter": "python",
      "pygments_lexer": "ipython3",
      "version": "3.9.7"
    },
    "colab": {
      "provenance": [],
      "include_colab_link": true
    }
  },
  "nbformat": 4,
  "nbformat_minor": 5
}